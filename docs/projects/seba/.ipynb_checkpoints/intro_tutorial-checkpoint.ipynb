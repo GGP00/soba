{
 "cells": [
  {
   "cell_type": "markdown",
   "metadata": {
    "nbpresent": {
     "id": "249f1fd2-757f-4e1e-afa4-fe1fae12fc83"
    }
   },
   "source": [
    "# Use Case"
   ]
  },
  {
   "cell_type": "markdown",
   "metadata": {
    "nbpresent": {
     "id": "39a49c82-248c-474f-982a-581fc45c1306"
    }
   },
   "source": [
    "## Instalation\n",
    "\n",
    "If the SOBA package is not yet installed, we must first do so. To install SOBA the best option is to use the package management system PIP. For this, we execute the following command.\n",
    "\n",
    "```bash\n",
    "    $ pip install soba\n",
    "```\n",
    "\n",
    "In case of error, this other command should be used, ensuring to have installed python 3 and pip 3.\n",
    "\n",
    "```bash\n",
    "    $ pip3 install soba\n",
    "```\n",
    "\n",
    "## Tutorial\n",
    "\n",
    "The SOBA tool can be provided to be used directly on two scenarios:\n",
    "\n",
    "1. Generic case with a space defined as a grid of a given square size (by default, half a meter on each side).\n",
    "2. Simplified case with a room defined by rooms, to perform simulations in simplified buildings that require less consumption of resources and specifications.\n",
    "\n",
    "An introductory tutorial will be presented for each case, although most parameters are common or similar.\n",
    "\n",
    "SOBA enables the performance of the simulations in two modes:\n",
    "\n",
    "1. With visual representation.\n",
    "2. In batch mode. \n",
    "\n",
    "In the tutorials, the small modifications required to use each posibility are reflected.\n",
    "\n",
    "\n",
    "In addition, two added mechanisms are provided to interact with the simulation:\n",
    "\n",
    "1. Use an API on a REST server to obtain information and create and manage avatars.\n",
    "2. use the external tool [RAMEN](https://github.com/gsi-upm/RAMEN) for advanced 3D-visualization on Three.js. \n",
    "\n",
    "IMPORTANT NOTE: The .py files described in this tutorial are available in the github repository \n",
    "https://github.com/gsi-upm/soba/tree/master/projects/basicExamples"
   ]
  },
  {
   "cell_type": "markdown",
   "metadata": {
    "nbpresent": {
     "id": "72f5f4a1-ceea-4e7b-bae3-3ebbb58acbb0"
    }
   },
   "source": [
    "### Implementing  a sample model with continuous space\n",
    "\n",
    "Once soba is installed, the implementation can be started. First we define the generic parameters to both types of scenario.\n",
    "\n",
    "1.- We define the characteristics of the occupants"
   ]
  },
  {
   "cell_type": "code",
   "execution_count": 1,
   "metadata": {
    "collapsed": true,
    "nbpresent": {
     "id": "2b696e9a-636c-4ca1-b577-3359f7d354c4"
    }
   },
   "outputs": [],
   "source": [
    "from collections import OrderedDict\n",
    "#JSON to store all the informacion.\n",
    "jsonsOccupants = []\n",
    "\n",
    "#Number of occupants\n",
    "N = 3\n",
    "\n",
    "#Definition of the states\n",
    "states = OrderedDict([('Leaving','out'), ('Resting', 'sofa'), ('Working in my laboratory', 'wp')])\n",
    "\n",
    "#Definition of the schedule\n",
    "schedule = {'t1': \"08:01:00\", 't2': \"08:10:00\", 't3': \"08:20:00\"}\n",
    "\n",
    "#Possible Variation on the schedule\n",
    "variation = {'t1': \"00:01:00\", 't2': \"00:01:00\", 't3': \"00:01:00\"}\n",
    "\n",
    "#Probability of state change associated with the Markovian chain as a function of the temporal period\n",
    "markovActivity = {\n",
    "    '-t1': [[100, 0, 0], [0, 0, 0], [0, 0, 0]],\n",
    "    't1-t2': [[0, 0, 100], [0, 50, 50], [0, 50, 50]],\n",
    "    't2-t3': [[100, 0, 0], [0, 50, 50], [0, 50, 50]],\n",
    "    't3-': [[0, 0, 100], [100, 0, 0], [0, 0, 100]]\n",
    "}\n",
    "\n",
    "#Time associated to each state (minutes)\n",
    "timeActivity = {\n",
    "    '-t1': [3, 0, 0], 't1-t2': [3, 3, 3], 't2-t3': [3, 3, 3], 't3-': [3, 3, 3]\n",
    "}\n",
    "\n",
    "\n",
    "#Time variation associated to each state (minutes)\n",
    "timeActivityVariation = {\n",
    "    '-t1': [1, 0, 0], 't1-t2': [1, 1, 1], 't2-t3': [1, 1, 1], 't3-': [1, 1, 1]\n",
    "}\n",
    "\n",
    "#Store the information\n",
    "jsonOccupant = {'type': 'example' , 'N': N, 'states': states , 'schedule': schedule, 'variation': variation,\n",
    "'markovActivity': markovActivity, 'timeActivity': timeActivity, \"timeActivityVariation\": timeActivityVariation}\n",
    "\n",
    "jsonsOccupants.append(jsonOccupant)"
   ]
  },
  {
   "cell_type": "markdown",
   "metadata": {
    "nbpresent": {
     "id": "b88cea19-8b6f-4b84-9c17-556c4c962b67"
    }
   },
   "source": [
    "2.- We define the building plan or the distribution of the space."
   ]
  },
  {
   "cell_type": "code",
   "execution_count": 2,
   "metadata": {
    "collapsed": false,
    "nbpresent": {
     "id": "b0105cb2-d0ca-4e8b-b447-6da37c27bcb0"
    }
   },
   "outputs": [],
   "source": [
    "import soba.visualization.ramen.mapGenerator as ramen\n",
    "\n",
    "with open('labgsi.blueprint3d') as data_file:\n",
    "    jsonMap = ramen.returnMap(data_file)"
   ]
  },
  {
   "cell_type": "markdown",
   "metadata": {
    "nbpresent": {
     "id": "cd128c94-f78c-4a4d-8844-cea16aef192a"
    }
   },
   "source": [
    "3.- We implement a Model inheriting a base class of SOBA."
   ]
  },
  {
   "cell_type": "code",
   "execution_count": 3,
   "metadata": {
    "collapsed": false,
    "nbpresent": {
     "id": "d900a90e-a10c-4d37-a0a8-7131d500776d"
    }
   },
   "outputs": [],
   "source": [
    "from soba.models.continuousModel import ContinuousModel\n",
    "from time import time\n",
    "\n",
    "class ModelExample(ContinuousModel):\n",
    "\n",
    "    def __init__(self, width, height, jsonMap, jsonsOccupants, seed = int(time())):\n",
    "        super().__init__(width, height, jsonMap, jsonsOccupants, seed = seed, timeByStep = 60)\n",
    "        self.createOccupants(jsonsOccupants)\n",
    "\n",
    "    def step(self):\n",
    "        if self.clock.clock.hour > 17:\n",
    "            self.finishSimulation = True\n",
    "        super().step()\n"
   ]
  },
  {
   "cell_type": "markdown",
   "metadata": {
    "nbpresent": {
     "id": "b4bae69b-61dc-49dd-9798-2be2cadf9e08"
    }
   },
   "source": [
    "4.- We call the execution methods.\n",
    "\n",
    "    4.1-With visual representation."
   ]
  },
  {
   "cell_type": "code",
   "execution_count": 4,
   "metadata": {
    "collapsed": false,
    "nbpresent": {
     "id": "2ee5ecf7-3c85-428b-96a3-68706f734c25"
    }
   },
   "outputs": [
    {
     "name": "stdout",
     "output_type": "stream",
     "text": [
      "SOBA is running\n",
      "Interface starting at http://127.0.0.1:7777\n",
      "Socket opened!\n",
      "{\"type\":\"get_params\"}\n",
      "{\"type\":\"reset\"}\n",
      "{\"type\":\"get_step\",\"step\":1}\n",
      "01:08:01:00\n",
      "{\"type\":\"get_step\",\"step\":2}\n",
      "01:08:02:00\n",
      "{\"type\":\"get_step\",\"step\":3}\n",
      "01:08:03:00\n",
      "{\"type\":\"get_step\",\"step\":4}\n",
      "01:08:04:00\n",
      "{\"type\":\"get_step\",\"step\":5}\n",
      "01:08:05:00\n",
      "{\"type\":\"get_step\",\"step\":6}\n",
      "01:08:06:00\n",
      "{\"type\":\"get_step\",\"step\":7}\n",
      "01:08:07:00\n",
      "{\"type\":\"get_step\",\"step\":8}\n",
      "01:08:08:00\n",
      "{\"type\":\"get_step\",\"step\":9}\n",
      "01:08:09:00\n",
      "{\"type\":\"get_step\",\"step\":10}\n",
      "01:08:10:00\n",
      "{\"type\":\"get_step\",\"step\":11}\n",
      "01:08:11:00\n",
      "{\"type\":\"get_step\",\"step\":12}\n",
      "01:08:12:00\n",
      "{\"type\":\"get_step\",\"step\":13}\n",
      "01:08:13:00\n",
      "{\"type\":\"get_step\",\"step\":14}\n",
      "01:08:14:00\n",
      "{\"type\":\"get_step\",\"step\":15}\n",
      "01:08:15:00\n",
      "{\"type\":\"get_step\",\"step\":16}\n",
      "01:08:16:00\n",
      "{\"type\":\"get_step\",\"step\":17}\n",
      "01:08:17:00\n",
      "{\"type\":\"get_step\",\"step\":18}\n",
      "01:08:18:00\n",
      "{\"type\":\"get_step\",\"step\":19}\n",
      "01:08:19:00\n",
      "{\"type\":\"get_step\",\"step\":20}\n",
      "01:08:20:00\n",
      "{\"type\":\"get_step\",\"step\":21}\n",
      "01:08:21:00\n",
      "{\"type\":\"get_step\",\"step\":22}\n",
      "01:08:22:00\n",
      "{\"type\":\"get_step\",\"step\":23}\n",
      "01:08:23:00\n",
      "{\"type\":\"get_step\",\"step\":24}\n",
      "01:08:24:00\n",
      "{\"type\":\"get_step\",\"step\":25}\n",
      "01:08:25:00\n",
      "{\"type\":\"get_step\",\"step\":26}\n",
      "01:08:26:00\n",
      "{\"type\":\"get_step\",\"step\":27}\n",
      "01:08:27:00\n",
      "{\"type\":\"get_step\",\"step\":28}\n",
      "01:08:28:00\n",
      "{\"type\":\"get_step\",\"step\":29}\n",
      "01:08:29:00\n",
      "{\"type\":\"get_step\",\"step\":30}\n",
      "01:08:30:00\n",
      "{\"type\":\"get_step\",\"step\":31}\n",
      "01:08:31:00\n",
      "{\"type\":\"get_step\",\"step\":32}\n",
      "01:08:32:00\n",
      "{\"type\":\"get_step\",\"step\":33}\n",
      "01:08:33:00\n",
      "{\"type\":\"get_step\",\"step\":34}\n",
      "01:08:34:00\n",
      "{\"type\":\"get_step\",\"step\":35}\n",
      "01:08:35:00\n",
      "{\"type\":\"get_step\",\"step\":36}\n",
      "01:08:36:00\n",
      "{\"type\":\"get_step\",\"step\":37}\n",
      "01:08:37:00\n",
      "{\"type\":\"get_step\",\"step\":38}\n",
      "01:08:38:00\n",
      "{\"type\":\"get_step\",\"step\":39}\n",
      "01:08:39:00\n",
      "{\"type\":\"get_step\",\"step\":40}\n",
      "01:08:40:00\n",
      "{\"type\":\"get_step\",\"step\":41}\n",
      "01:08:41:00\n",
      "{\"type\":\"get_step\",\"step\":42}\n",
      "01:08:42:00\n",
      "{\"type\":\"get_step\",\"step\":43}\n",
      "01:08:43:00\n",
      "{\"type\":\"get_step\",\"step\":44}\n",
      "01:08:44:00\n",
      "{\"type\":\"get_step\",\"step\":45}\n",
      "01:08:45:00\n",
      "{\"type\":\"get_step\",\"step\":46}\n",
      "01:08:46:00\n",
      "{\"type\":\"get_step\",\"step\":47}\n",
      "01:08:47:00\n",
      "{\"type\":\"get_step\",\"step\":48}\n",
      "01:08:48:00\n",
      "{\"type\":\"get_step\",\"step\":49}\n",
      "01:08:49:00\n",
      "{\"type\":\"get_step\",\"step\":50}\n",
      "01:08:50:00\n",
      "{\"type\":\"get_step\",\"step\":51}\n",
      "01:08:51:00\n",
      "{\"type\":\"get_step\",\"step\":52}\n",
      "01:08:52:00\n",
      "{\"type\":\"get_step\",\"step\":53}\n",
      "01:08:53:00\n",
      "{\"type\":\"get_step\",\"step\":54}\n",
      "01:08:54:00\n",
      "{\"type\":\"get_step\",\"step\":55}\n",
      "01:08:55:00\n",
      "{\"type\":\"get_step\",\"step\":56}\n",
      "01:08:56:00\n",
      "{\"type\":\"get_step\",\"step\":57}\n",
      "01:08:57:00\n",
      "{\"type\":\"get_step\",\"step\":58}\n",
      "01:08:58:00\n"
     ]
    }
   ],
   "source": [
    "import soba.run\n",
    "import sys\n",
    "from optparse import OptionParser\n",
    "\n",
    "parameters = {'width': 40, 'height': 40, 'jsonMap': jsonMap, 'jsonsOccupants': jsonsOccupants}\n",
    "\n",
    "sys.argv = []\n",
    "sys.argv.append(\"-1\")\n",
    "sys.argv.append(\"-v\")\n",
    "\n",
    "soba.run.run(ModelExample, parameters, visualJS=\"example.js\")"
   ]
  },
  {
   "cell_type": "markdown",
   "metadata": {
    "nbpresent": {
     "id": "127bd7f5-a545-409b-a602-f719c42ee773"
    }
   },
   "source": [
    "    4.1- Bacth mode."
   ]
  },
  {
   "cell_type": "code",
   "execution_count": null,
   "metadata": {
    "collapsed": true,
    "nbpresent": {
     "id": "f7dfedd1-dbe6-474e-b55e-6ff54b00e183"
    }
   },
   "outputs": [],
   "source": [
    "import soba.run\n",
    "import sys\n",
    "#Fixed parameters during iterations\n",
    "fixed_params = {\"width\": 40, \"height\": 40, \"jsonMap\": jsonMap, \"jsonsOccupants\": jsonsOccupants}\n",
    "#Variable parameters to each iteration\n",
    "variable_params = {\"seed\": range(10, 500, 10)}\n",
    "\n",
    "sys.argv = []\n",
    "sys.argv.append(\"-1\")\n",
    "sys.argv.append(\"-b\")\n",
    "\n",
    "soba.run.run(ModelExample, fixed_params, variable_params)"
   ]
  },
  {
   "cell_type": "markdown",
   "metadata": {
    "nbpresent": {
     "id": "bf2e8480-f91e-4076-b337-92888972d2f6"
    }
   },
   "source": [
    "### Implementing  a sample model with simplified space\n",
    "\n",
    "Once soba is installed, the implementation can be started. First we define the generic parameters to both types of scenario.\n",
    "\n",
    "1.- We define the characteristics of the occupants\n"
   ]
  },
  {
   "cell_type": "code",
   "execution_count": null,
   "metadata": {
    "collapsed": true,
    "nbpresent": {
     "id": "3ff928fb-8304-480f-935e-0f7b5f7275bc"
    }
   },
   "outputs": [],
   "source": [
    "from collections import OrderedDict\n",
    "#JSON to store all the informacion.\n",
    "jsonsOccupants = []\n",
    "\n",
    "#Number of occupants\n",
    "N = 3\n",
    "\n",
    "#Definition of the states\n",
    "states = OrderedDict([('out','Pos1'), ('Working in my laboratory', {'Pos2': 1, 'Pos3': 2})])\n",
    "\n",
    "#Definition of the schedule\n",
    "schedule = {'t1': \"08:01:00\", 't2': \"08:10:00\", 't3': \"08:20:00\"}\n",
    "\n",
    "#Possible Variation on the schedule\n",
    "variation = {'t1': \"00:01:00\", 't2': \"00:01:00\", 't3': \"00:01:00\"}\n",
    "\n",
    "#Probability of state change associated with the Markovian chain as a function of the temporal period\n",
    "markovActivity = {\n",
    "    '-t1': [[100, 0, 0], [0, 0, 0], [0, 0, 0]],\n",
    "    't1-t2': [[0, 0, 100], [0, 50, 50], [0, 50, 50]],\n",
    "    't2-t3': [[100, 0, 0], [0, 50, 50], [0, 50, 50]],\n",
    "    't3-': [[0, 0, 100], [0, 100, 0], [0, 100, 0]]\n",
    "}\n",
    "\n",
    "#Time associated to each state (minutes)\n",
    "timeActivity = {\n",
    "    '-t1': [3, 0, 0], 't1-t2': [3, 3, 3], 't2-t3': [3, 3, 3], 't3-': [3, 3, 3]\n",
    "}\n",
    "\n",
    "\n",
    "#Time variation associated to each state (minutes)\n",
    "timeActivityVariation = {\n",
    "    '-t1': [1, 0, 0], 't1-t2': [1, 1, 1], 't2-t3': [1, 1, 1], 't3-': [1, 1, 1]\n",
    "}\n",
    "\n",
    "#Store the information\n",
    "jsonOccupant = {'type': 'example' , 'N': N, 'states': states , 'schedule': schedule, 'variation': variation, \n",
    "                'markovActivity': markovActivity, 'timeActivity': timeActivity}\n",
    "jsonsOccupants.append(jsonOccupant)"
   ]
  },
  {
   "cell_type": "markdown",
   "metadata": {
    "collapsed": true,
    "nbpresent": {
     "id": "1940ec2e-ad05-42dc-bd66-2587417ddfdc"
    }
   },
   "source": [
    "2.- We define the building plan or the distribution of the space."
   ]
  },
  {
   "cell_type": "code",
   "execution_count": null,
   "metadata": {
    "collapsed": true,
    "nbpresent": {
     "id": "eee4e33b-01b8-4060-882a-e5bbb62b1b46"
    }
   },
   "outputs": [],
   "source": [
    "jsonMap = {\n",
    "  'Pos1': {'entrance':'', 'conectedTo': {'U':'Pos2'}, 'measures': {'dx':2, 'dy':2}},\n",
    "  'Pos2': {'measures': {'dx':3, 'dy':3.5}, 'conectedTo': {'R':'Pos3'}},\n",
    "  'Pos3': {'measures': {'dx':3, 'dy':3.5}}\n",
    "}"
   ]
  },
  {
   "cell_type": "markdown",
   "metadata": {
    "collapsed": true,
    "nbpresent": {
     "id": "fd7fe8a6-e4e4-41a9-9b64-5308172a0d6e"
    }
   },
   "source": [
    "3.- We implement a Model inheriting a base class of SOBA."
   ]
  },
  {
   "cell_type": "code",
   "execution_count": null,
   "metadata": {
    "collapsed": true,
    "nbpresent": {
     "id": "6e3526cb-e289-4bac-a6fb-7cdf36171421"
    }
   },
   "outputs": [],
   "source": [
    "from soba.models.roomsModel import RoomsModel\n",
    "import datetime as dt\n",
    "\n",
    "class ModelExample(RoomsModel):\n",
    "\n",
    "    def __init__(self, width, height, jsonMap, jsonsOccupants, seed = int(time())):\n",
    "        super().__init__(width, height, jsonMap, jsonsOccupants, seed = seed)\n",
    "\n",
    "    def step(self):\n",
    "        if self.clock.clock.day > 3:\n",
    "            self.finishSimulation = True\n",
    "        super().step()"
   ]
  },
  {
   "cell_type": "markdown",
   "metadata": {
    "collapsed": true,
    "nbpresent": {
     "id": "3daeec64-866c-4471-84a5-5aff47a5f6eb"
    }
   },
   "source": [
    "4.- We call the execution methods.\n",
    "    4.1- With visual representation."
   ]
  },
  {
   "cell_type": "code",
   "execution_count": null,
   "metadata": {
    "collapsed": true,
    "nbpresent": {
     "id": "6a0175dd-9e63-42ff-b409-7ee8f5f1912e"
    }
   },
   "outputs": [],
   "source": [
    "import soba.run\n",
    "import sys\n",
    "\n",
    "cellW = 4\n",
    "cellH = 4\n",
    "\n",
    "sys.argv = []\n",
    "sys.argv.append(\"-1\")\n",
    "sys.argv.append(\"-v\")\n",
    "\n",
    "parameters = {'width': cellW, 'height': cellH, 'jsonMap': jsonMap, 'jsonsOccupants': jsonsOccupants}\n",
    "soba.run.run(ModelExample, parameters, visualJS=\"example.js\")"
   ]
  },
  {
   "cell_type": "markdown",
   "metadata": {
    "nbpresent": {
     "id": "7614a362-5d9e-43cf-b9a2-8f81bc3711ad"
    }
   },
   "source": [
    "    4.1- Bacth mode."
   ]
  },
  {
   "cell_type": "code",
   "execution_count": null,
   "metadata": {
    "collapsed": true,
    "nbpresent": {
     "id": "96e3f476-c18e-471a-b36b-b9742be5b9e9"
    }
   },
   "outputs": [],
   "source": [
    "#Fixed parameters during iterations\n",
    "fixed_params = {\"width\": cellW, \"height\": cellH, \"jsonMap\": jsonMap, \"jsonsOccupants\": jsonsOccupants}\n",
    "#Variable parameters to each iteration\n",
    "variable_params = {\"seed\": range(10, 500, 10)}\n",
    "\n",
    "sys.argv = []\n",
    "sys.argv.append(\"-1\")\n",
    "sys.argv.append(\"-b\")\n",
    "\n",
    "soba.run.run(ModelExample, fixed_params, variable_params)"
   ]
  },
  {
   "cell_type": "markdown",
   "metadata": {
    "collapsed": false,
    "nbpresent": {
     "id": "9f03305d-84df-429f-a04e-69753105bcd7"
    }
   },
   "source": [
    "## Running the simulation using the terminal\n",
    "\n",
    "```bash\n",
    "\n",
    "        $ git clone https://github.com/gsi-upm/soba\n",
    "\n",
    "        $ cd soba/projects/examples\n",
    "```\n",
    "\n",
    "Then, execute the run file. \n",
    "\n",
    "```bash\n",
    "\n",
    "        $ python continuousExample.py\n",
    "```\n",
    "or\n",
    "\n",
    "```bash\n",
    "\n",
    "        $ python3 continuousExample.py\n",
    "```\n",
    "\n",
    "Different options are provided for execution:\n",
    "\t\n",
    "1. Visual mode\n",
    "\n",
    "```bash\n",
    "\n",
    "        $ python3 continuousExample.py -v\n",
    "```\n",
    "\n",
    "1.1 Launching REST Server\n",
    "\n",
    "```bash\n",
    "\n",
    "        $ python3 continuousExample.py -v -s\n",
    "```\n",
    "\n",
    "1.2 Using RAMEN tool\n",
    "```bash\n",
    "\n",
    "        $ python3 continuousExample.py -v -r\n",
    "```\n",
    "2. Batch mode\n",
    "\n",
    "```bash\n",
    "\n",
    "        $ python3 continuousExample.py -b\n",
    "```\n",
    "\n",
    "2.1 Launching REST Server\n",
    "\n",
    "```bash\n",
    "\n",
    "        $ python3 continuousExample.py -b -s\n",
    "```\n",
    "\n",
    "2.2 Using RAMEN tool\n",
    "\n",
    "```bash\n",
    "\n",
    "        $ python3 continuousExample.py -b -r\n",
    "```"
   ]
  },
  {
   "cell_type": "code",
   "execution_count": null,
   "metadata": {
    "collapsed": true,
    "nbpresent": {
     "id": "9239c6b5-e4e2-4852-92d1-3d9fa61df9da"
    }
   },
   "outputs": [],
   "source": []
  }
 ],
 "metadata": {
  "anaconda-cloud": {},
  "kernelspec": {
   "display_name": "Python [conda root]",
   "language": "python",
   "name": "conda-root-py"
  },
  "language_info": {
   "codemirror_mode": {
    "name": "ipython",
    "version": 3
   },
   "file_extension": ".py",
   "mimetype": "text/x-python",
   "name": "python",
   "nbconvert_exporter": "python",
   "pygments_lexer": "ipython3",
   "version": "3.5.2"
  }
 },
 "nbformat": 4,
 "nbformat_minor": 1
}
