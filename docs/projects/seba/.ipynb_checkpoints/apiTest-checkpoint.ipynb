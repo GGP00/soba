{
 "cells": [
  {
   "cell_type": "markdown",
   "metadata": {},
   "source": [
    "# Test API Rest client"
   ]
  },
  {
   "cell_type": "markdown",
   "metadata": {},
   "source": [
    "### Initialization of params"
   ]
  },
  {
   "cell_type": "code",
   "execution_count": 6,
   "metadata": {
    "collapsed": true
   },
   "outputs": [],
   "source": [
    "from unittest import TestCase\n",
    "import json, requests\n",
    "from jsonschema import validate\n",
    "import socket\n",
    "import unittest\n",
    "\n",
    "\n",
    "ipServer = socket.gethostbyname(socket.gethostname())\n",
    "\n",
    "#Template of the URLs\n",
    "URLBASE = \"http://127.0.1.1:10000\"\n",
    "URISOBA = \"/api/soba/v1/occupants\"\n",
    "URISEBA = \"/api/seba/v1/occupants\"\n",
    "URIFIRE = \"/api/seba/v1/fire\"\n",
    "\n",
    "stringTemplate = {\"type\": \"string\"}\n",
    "numberTemplate = {\"type\": \"number\"}\n",
    "\n",
    "#Number of test for each (URI, Method) \n",
    "N = 1"
   ]
  },
  {
   "cell_type": "markdown",
   "metadata": {},
   "source": [
    "### Tests"
   ]
  },
  {
   "cell_type": "code",
   "execution_count": 7,
   "metadata": {
    "collapsed": false
   },
   "outputs": [
    {
     "name": "stdout",
     "output_type": "stream",
     "text": [
      "Testing GET /api/soba/v1/occupants\n",
      "Response:  {'occupants': [2, 0, 1]}\n"
     ]
    }
   ],
   "source": [
    "print(str('Testing {}').format('GET /api/soba/v1/occupants'))\n",
    "template = {\n",
    "    \"type\": \"object\",\n",
    "    \"properties\": {\n",
    "        \"occupants\": {\n",
    "            \"type\": \"array\"\n",
    "            }\n",
    "    },\n",
    "    \"required\": [\"occupants\"]\n",
    "}\n",
    "\n",
    "for i in range(N):\n",
    "    url = URLBASE + URISOBA\n",
    "    data = requests.get(url)\n",
    "    datajson = data.json()\n",
    "    print(\"Response: \", datajson)\n",
    "    validate(datajson, template)\n",
    "    for o in datajson[\"occupants\"]:\n",
    "        validate(o, numberTemplate)"
   ]
  },
  {
   "cell_type": "code",
   "execution_count": 11,
   "metadata": {
    "collapsed": false
   },
   "outputs": [
    {
     "name": "stdout",
     "output_type": "stream",
     "text": [
      "Testing GET /api/soba/v1/occupants/movements\n",
      "Response:  {'0': {'speed': 0.71428, 'orientation': 'out'}, '2': {'speed': 0.71428, 'orientation': 'out'}, '1': {'speed': 0.71428, 'orientation': 'out'}}\n"
     ]
    }
   ],
   "source": [
    "print(str('Testing {}').format('GET /api/soba/v1/occupants/movements'))\n",
    "template = {\n",
    "    \"type\": \"object\",\n",
    "    \"properties\": {\n",
    "        \"orientation\": {\n",
    "            \"type\": \"string\"\n",
    "            },\n",
    "        \"speed\": {\n",
    "            \"type\": \"number\"\n",
    "            }\n",
    "    },\n",
    "    \"required\": [\"orientation\", \"speed\"]\n",
    "}\n",
    "\n",
    "template2 = {\n",
    "    \"type\": \"object\"\n",
    "}\n",
    "\n",
    "for i in range(N):\n",
    "    url = URLBASE + URISOBA + \"/movements\"\n",
    "    data = requests.get(url)\n",
    "    datajson = data.json()\n",
    "    print(\"Response: \", datajson)\n",
    "    validate(datajson, template2)\n",
    "    for k, v  in datajson.items():\n",
    "        validate(k, stringTemplate)\n",
    "        validate(int(k), numberTemplate)\n",
    "        validate(v, template)"
   ]
  },
  {
   "cell_type": "code",
   "execution_count": 12,
   "metadata": {
    "collapsed": false
   },
   "outputs": [
    {
     "name": "stdout",
     "output_type": "stream",
     "text": [
      "Testing GET /api/soba/v1/occupants/positions\n",
      "Response:  {'0': {'y': 14, 'x': 0}, '2': {'y': 14, 'x': 0}, '1': {'y': 14, 'x': 0}}\n"
     ]
    }
   ],
   "source": [
    "print(str('Testing {}').format('GET /api/soba/v1/occupants/positions'))\n",
    "template = {\n",
    "    \"type\": \"object\",\n",
    "    \"properties\": {\n",
    "        \"x\": {\n",
    "            \"type\": \"number\"\n",
    "            },\n",
    "        \"y\": {\n",
    "            \"type\": \"number\"\n",
    "            }\n",
    "    },\n",
    "    \"required\": [\"x\", \"y\"]\n",
    "}\n",
    "\n",
    "for i in range(N):\n",
    "    url = URLBASE + URISOBA + \"/positions\"\n",
    "    data = requests.get(url)\n",
    "    datajson = data.json()\n",
    "    print(\"Response: \", datajson)\n",
    "    for k, v in datajson.items():\n",
    "        validate(k, stringTemplate)\n",
    "        validate(int(k), numberTemplate)\n",
    "        validate(v, template)"
   ]
  },
  {
   "cell_type": "code",
   "execution_count": 13,
   "metadata": {
    "collapsed": false
   },
   "outputs": [
    {
     "name": "stdout",
     "output_type": "stream",
     "text": [
      "Testing GET /api/soba/v1/occupants/states\n",
      "Response:  {'0': 'Leaving', '2': 'Leaving', '1': 'Leaving'}\n"
     ]
    }
   ],
   "source": [
    "print(str('Testing {}').format('GET /api/soba/v1/occupants/states'))\n",
    "for i in range(N):\n",
    "    url = URLBASE + URISOBA + \"/states\"\n",
    "    data = requests.get(url)\n",
    "    datajson = data.json()\n",
    "    print(\"Response: \", datajson)\n",
    "    for k,v in datajson.items():\n",
    "        validate(v, stringTemplate)\n",
    "        validate(k, stringTemplate)\n",
    "        validate(int(k), numberTemplate)"
   ]
  },
  {
   "cell_type": "code",
   "execution_count": 14,
   "metadata": {
    "collapsed": false
   },
   "outputs": [
    {
     "name": "stdout",
     "output_type": "stream",
     "text": [
      "Testing GET /api/soba/v1/occupants/{id}\n",
      "Response:  {'occupant': {'unique_id': '0', 'movement': {'speed': 0.71428, 'orientation': 'out'}, 'fov': [], 'position': {'y': 14, 'x': 0}, 'state': 'Leaving'}}\n",
      "{'type': 'object', 'required': ['occupant'], 'properties': {'occupant': {'type': 'object', 'required': ['state', 'fov', 'unique_id', 'movement', 'position'], 'properties': {'unique_id': {'type': 'string'}, 'position': {'type': 'object', 'required': ['x', 'y'], 'properties': {'y': {'type': 'number'}, 'x': {'type': 'number'}}}, 'fov': {'type': 'array'}, 'movement': {'type': 'object', 'required': ['orientation', 'speed'], 'properties': {'speed': {'type': 'number'}, 'orientation': {'type': 'string'}}}, 'state': {'type': 'string'}}}}}\n"
     ]
    }
   ],
   "source": [
    "print(str('Testing {}').format('GET /api/soba/v1/occupants/{id}'))\n",
    "template = {\n",
    "    \"type\": \"object\",\n",
    "    \"properties\": {\n",
    "        \"occupant\":{\n",
    "            \"type\": \"object\",\n",
    "            \"properties\": {\n",
    "                    \"state\":{\n",
    "                        \"type\": \"string\"\n",
    "                    },\n",
    "                    \"fov\": {\n",
    "                        \"type\": \"array\"\n",
    "                    },\n",
    "                    \"unique_id\":{\n",
    "                        \"type\": \"string\"\n",
    "                    },\n",
    "                    \"movement\": {\n",
    "                        \"type\": \"object\",\n",
    "                        \"properties\": {\n",
    "                            \"orientation\":{\n",
    "                                \"type\": \"string\"\n",
    "                            },\n",
    "                            \"speed\":{\n",
    "                                \"type\": \"number\"\n",
    "                            },\n",
    "                        },\n",
    "                        \"required\": [\"orientation\", \"speed\"]\n",
    "                    },\n",
    "                    \"position\": {\n",
    "                        \"type\": \"object\",\n",
    "                        \"properties\": {\n",
    "                            \"x\":{\n",
    "                                \"type\": \"number\"\n",
    "                            },\n",
    "                            \"y\":{\n",
    "                                \"type\": \"number\"\n",
    "                            }\n",
    "                        },\n",
    "                        \"required\": [\"x\", \"y\"]\n",
    "                    }\n",
    "            },\n",
    "    \"required\": [\"state\", \"fov\", \"unique_id\", \"movement\", \"position\"]\n",
    "        }\n",
    "    },\n",
    "    \"required\": [\"occupant\"]\n",
    "}\n",
    "\n",
    "template2 = {\n",
    "    \"type\": \"object\",\n",
    "    \"properties\": {\n",
    "        \"x\": {\n",
    "            \"type\": \"number\"\n",
    "            },\n",
    "        \"y\": {\n",
    "            \"type\": \"number\"\n",
    "        }\n",
    "    },\n",
    "    \"required\": [\"x\", \"y\"]\n",
    "}\n",
    "\n",
    "for i in range(N):\n",
    "    url = URLBASE + URISOBA + \"/\" + str(0)\n",
    "    data = requests.get(url)\n",
    "    datajson = data.json()\n",
    "    print(\"Response: \", datajson)\n",
    "    validate(datajson, template)\n",
    "    validate(int(datajson['occupant']['unique_id']), numberTemplate)\n",
    "    print(template)\n",
    "    for p in datajson['occupant']['fov']:\n",
    "        validate(p, template2)"
   ]
  },
  {
   "cell_type": "code",
   "execution_count": 15,
   "metadata": {
    "collapsed": false
   },
   "outputs": [
    {
     "name": "stdout",
     "output_type": "stream",
     "text": [
      "Testing GET /api/soba/v1/occupants/{id}/movement\n",
      "Response:  {'movement': {'speed': 0.71428, 'orientation': 'out'}}\n"
     ]
    }
   ],
   "source": [
    "print(str('Testing {}').format('GET /api/soba/v1/occupants/{id}/movement'))\n",
    "template = {\n",
    "    \"type\": \"object\",\n",
    "    \"properties\": {\n",
    "        \"movement\":{\n",
    "            \"type\": \"object\",\n",
    "            \"properties\": {\n",
    "                    \"orientation\": {\n",
    "                        \"type\": \"string\"\n",
    "                    },\n",
    "                    \"speed\": {\n",
    "                        \"type\": \"number\"\n",
    "                    }\n",
    "            },\n",
    "        \"required\": [\"orientation\", \"speed\"]\n",
    "        }\n",
    "    },\n",
    "    \"required\": [\"movement\"]\n",
    "}\n",
    "\n",
    "for i in range(N):\n",
    "    url = URLBASE + URISOBA + \"/\" + str(0) + \"/movement\"\n",
    "    data = requests.get(url)\n",
    "    datajson = data.json()\n",
    "    print(\"Response: \", datajson)\n",
    "    validate(datajson, template)"
   ]
  },
  {
   "cell_type": "code",
   "execution_count": 17,
   "metadata": {
    "collapsed": false
   },
   "outputs": [
    {
     "name": "stdout",
     "output_type": "stream",
     "text": [
      "Testing GET /api/soba/v1/occupants/{id}/position\n",
      "Response:  {'position': {'y': 14, 'x': 0}}\n"
     ]
    }
   ],
   "source": [
    "print(str('Testing {}').format('GET /api/soba/v1/occupants/{id}/position'))\n",
    "template = {\n",
    "    \"type\": \"object\",\n",
    "    \"properties\": {\n",
    "        \"position\":{\n",
    "            \"type\": \"object\",\n",
    "            \"properties\": {\n",
    "                \"x\": {\n",
    "                    \"type\": \"number\"\n",
    "                    },\n",
    "                \"y\": {\n",
    "                    \"type\": \"number\"\n",
    "                }\n",
    "            },\n",
    "            \"required\": [\"x\", \"y\"]\n",
    "        }\n",
    "    },\n",
    "    \"required\": [\"position\"]\n",
    "}\n",
    "\n",
    "for i in range(N):\n",
    "    url = URLBASE + URISOBA + \"/\" + str(0) + \"/position\"\n",
    "    data = requests.get(url)\n",
    "    datajson = data.json()\n",
    "    print(\"Response: \", datajson)\n",
    "    validate(datajson, template)"
   ]
  },
  {
   "cell_type": "code",
   "execution_count": 18,
   "metadata": {
    "collapsed": false
   },
   "outputs": [
    {
     "name": "stdout",
     "output_type": "stream",
     "text": [
      "Testing GET /api/soba/v1/occupants/{id}/state\n",
      "Response:  {'state': 'Leaving'}\n"
     ]
    }
   ],
   "source": [
    "print(str('Testing {}').format('GET /api/soba/v1/occupants/{id}/state'))\n",
    "template = {\n",
    "    \"type\": \"object\",\n",
    "    \"properties\":{\n",
    "        \"state\": {\n",
    "            \"type\": \"string\"\n",
    "        }\n",
    "    },\n",
    "    \"required\": [\"state\"]\n",
    "}\n",
    "\n",
    "for i in range(N):\n",
    "    url = URLBASE + URISOBA + \"/\" + str(0) + \"/state\"\n",
    "    data = requests.get(url)\n",
    "    datajson = data.json()\n",
    "    print(\"Response: \", datajson)\n",
    "    validate(datajson, template)\n"
   ]
  },
  {
   "cell_type": "code",
   "execution_count": 19,
   "metadata": {
    "collapsed": false
   },
   "outputs": [
    {
     "name": "stdout",
     "output_type": "stream",
     "text": [
      "Testing GET /api/soba/v1/occupants/{id}/fov\n",
      "Response:  {'fov': []}\n"
     ]
    }
   ],
   "source": [
    "print(str('Testing {}').format('GET /api/soba/v1/occupants/{id}/fov'))\n",
    "template = {\n",
    "    \"type\": \"object\",\n",
    "    \"properties\": {\n",
    "        \"fov\": {\n",
    "            \"type\": \"array\"\n",
    "            }\n",
    "    },\n",
    "    \"required\": [\"fov\"]\n",
    "}\n",
    "\n",
    "\n",
    "template2 = {\n",
    "    \"type\": \"object\",\n",
    "    \"properties\": {\n",
    "        \"x\": {\n",
    "            \"type\": \"number\"\n",
    "            },\n",
    "        \"y\": {\n",
    "            \"type\": \"number\"\n",
    "        }\n",
    "    },\n",
    "    \"required\": [\"x\", \"y\"]\n",
    "}\n",
    "\n",
    "for i in range(N):\n",
    "    url = URLBASE + URISOBA + \"/\" + str(0) + \"/fov\"\n",
    "    data = requests.get(url)\n",
    "    datajson = data.json()\n",
    "    print(\"Response: \", datajson)\n",
    "    validate(datajson, template)\n",
    "    for p in datajson['fov']:\n",
    "        validate(p, template2)\n"
   ]
  },
  {
   "cell_type": "code",
   "execution_count": 27,
   "metadata": {
    "collapsed": false
   },
   "outputs": [
    {
     "name": "stdout",
     "output_type": "stream",
     "text": [
      "Testing PUT /api/soba/v1/occupants/{id}\n",
      "Response:  {'avatar': {'id': 100000, 'position': {'y': 10, 'x': 10}}}\n"
     ]
    }
   ],
   "source": [
    "print(str('Testing {}').format('PUT /api/soba/v1/occupants/{id}'))\n",
    "template = {\n",
    "    \"type\": \"object\",\n",
    "        \"properties\": {\n",
    "            \"avatar\":{\n",
    "                \"type\": \"object\",\n",
    "                \"properties\": {\n",
    "                    \"position\":{\n",
    "                        \"type\": \"object\",\n",
    "                        \"properties\": {\n",
    "                            \"x\": {\n",
    "                                \"type\": \"number\",\n",
    "                            },\n",
    "                            \"y\": {\n",
    "                                \"type\": \"number\"\n",
    "                            }\n",
    "                        },\n",
    "                        \"required\": [\"x\", \"y\"]\n",
    "                    },\n",
    "                    \"id\":{\n",
    "                        \"type\": \"number\"\n",
    "                    }\n",
    "            },\n",
    "            \"required\": [\"position\", \"id\"]\n",
    "        }\n",
    "    },\n",
    "    \"required\": [\"avatar\"]\n",
    "}\n",
    "\n",
    "dataBody = {\"x\": 10, \"y\": 10}\n",
    "\n",
    "for i in range(N):\n",
    "    url = URLBASE + URISOBA + \"/\" + str(0)\n",
    "    data = requests.put(url, json=dataBody, headers={'Content-Type': \"application/json\", 'Accept': \"application/json\"})\n",
    "    datajson = data.json()\n",
    "    print(\"Response: \", datajson)\n",
    "    validate(datajson, template)\n"
   ]
  },
  {
   "cell_type": "code",
   "execution_count": 26,
   "metadata": {
    "collapsed": false
   },
   "outputs": [
    {
     "name": "stdout",
     "output_type": "stream",
     "text": [
      "Testing POST /api/soba/v1/occupants/{id}/position\n",
      "Response:  {'avatar': {'id': 100000, 'position': {'y': 5, 'x': 5}}}\n"
     ]
    }
   ],
   "source": [
    "print(str('Testing {}').format('POST /api/soba/v1/occupants/{id}/position'))\n",
    "template = {\n",
    "    \"type\": \"object\",\n",
    "        \"properties\": {\n",
    "            \"avatar\":{\n",
    "                \"type\": \"object\",\n",
    "                \"properties\": {\n",
    "                    \"position\":{\n",
    "                        \"type\": \"object\",\n",
    "                        \"properties\": {\n",
    "                            \"x\": {\n",
    "                                \"type\": \"number\",\n",
    "                            },\n",
    "                            \"y\": {\n",
    "                                \"type\": \"number\"\n",
    "                            }\n",
    "                        },\n",
    "                        \"required\": [\"x\", \"y\"]\n",
    "                    },\n",
    "                    \"id\":{\n",
    "                        \"type\": \"number\"\n",
    "                    }\n",
    "            },\n",
    "            \"required\": [\"position\", \"id\"]\n",
    "        }\n",
    "    },\n",
    "    \"required\": [\"avatar\"]\n",
    "}\n",
    "\n",
    "dataBody = {\"x\": 5, \"y\": 5}\n",
    "\n",
    "for i in range(N):\n",
    "    url = URLBASE + URISOBA + \"/\" + str(100000) + \"/position\"\n",
    "    data = requests.post(url, json=dataBody, headers={'Content-Type': \"application/json\", 'Accept': \"application/json\"})\n",
    "    datajson = data.json()\n",
    "    print(\"Response: \", datajson)\n",
    "    validate(datajson, template)"
   ]
  },
  {
   "cell_type": "code",
   "execution_count": 28,
   "metadata": {
    "collapsed": false
   },
   "outputs": [
    {
     "name": "stdout",
     "output_type": "stream",
     "text": [
      "Testing GET /api/seba/v1/occupants/{id}/route/{route_id}\n",
      "Response:  {'positions': [{'y': 10, 'x': 11}, {'y': 9, 'x': 12}, {'y': 8, 'x': 13}, {'y': 8, 'x': 14}, {'y': 8, 'x': 15}, {'y': 7, 'x': 16}, {'y': 6, 'x': 17}, {'y': 5, 'x': 18}]}\n"
     ]
    }
   ],
   "source": [
    "print(str('Testing {}').format('GET /api/seba/v1/occupants/{id}/route/{route_id}'))\n",
    "template = {\n",
    "    \"type\": \"object\",\n",
    "    \"properties\": {\n",
    "        \"positions\": {\n",
    "            \"type\": \"array\"\n",
    "            }\n",
    "    }\n",
    "}\n",
    "\n",
    "template2 = {\n",
    "    \"type\": \"object\",\n",
    "    \"properties\": {\n",
    "        \"x\": {\n",
    "            \"type\": \"number\"\n",
    "            },\n",
    "        \"y\": {\n",
    "            \"type\": \"number\"\n",
    "            }\n",
    "    },\n",
    "    \"required\": [\"x\", \"y\"]\n",
    "}\n",
    "\n",
    "for i in range(N):\n",
    "    url = URLBASE + URISEBA + \"/\" + str(100000) + \"/route/1\"\n",
    "    data = requests.get(url)\n",
    "    datajson = data.json()\n",
    "    print(\"Response: \", datajson)\n",
    "    validate(datajson, template)\n",
    "    for m in datajson[\"positions\"]:\n",
    "        validate(m, template2)"
   ]
  },
  {
   "cell_type": "code",
   "execution_count": 29,
   "metadata": {
    "collapsed": false
   },
   "outputs": [
    {
     "name": "stdout",
     "output_type": "stream",
     "text": [
      "Testing PUT /api/seba/v1/occupants/{id}\n",
      "Response:  {'avatar': {'id': 100001, 'position': {'y': 13, 'x': 13}}}\n"
     ]
    }
   ],
   "source": [
    "print(str('Testing {}').format('PUT /api/seba/v1/occupants/{id}'))\n",
    "template = {\n",
    "    \"type\": \"object\",\n",
    "    \"properties\": {\n",
    "        \"avatar\": {\n",
    "            \"type\": \"object\",\n",
    "            \"properties\":{\n",
    "                \"position\":{\n",
    "                    \"type\": \"object\",\n",
    "                    \"properties\":{\n",
    "                        \"x\": {\n",
    "                            \"type\": \"number\"\n",
    "                        },\n",
    "                        \"y\": {\n",
    "                            \"type\": \"number\"\n",
    "                        }\n",
    "                    },\n",
    "                    \"required\": [\"x\", \"y\"]\n",
    "                },\n",
    "                \"id\": {\n",
    "                    \"type\": \"number\"\n",
    "                }\n",
    "            },\n",
    "            \"required\": [\"position\", \"id\"]\n",
    "        }\n",
    "    },\n",
    "    \"required\": [\"avatar\"]\n",
    "}\n",
    "\n",
    "dataBody = {\"x\": 13, \"y\": 13}\n",
    "\n",
    "for i in range(N):\n",
    "    url = URLBASE + URISEBA + \"/\" + str(1)\n",
    "    data = requests.put(url, json=dataBody, headers={'Content-Type': \"application/json\", 'Accept': \"application/json\"})\n",
    "    datajson = data.json()\n",
    "    print(\"Response: \", datajson)\n",
    "    validate(datajson, template)"
   ]
  },
  {
   "cell_type": "code",
   "execution_count": 30,
   "metadata": {
    "collapsed": false
   },
   "outputs": [
    {
     "name": "stdout",
     "output_type": "stream",
     "text": [
      "Testing GET /api/seba/v1/occupants/{id}/fire\n",
      "Response:  {'positions': [{'y': 1, 'x': 10}, {'y': 1, 'x': 11}, {'y': 1, 'x': 12}, {'y': 1, 'x': 13}, {'y': 1, 'x': 14}, {'y': 1, 'x': 15}, {'y': 1, 'x': 16}, {'y': 2, 'x': 10}, {'y': 2, 'x': 11}, {'y': 2, 'x': 12}, {'y': 2, 'x': 13}, {'y': 2, 'x': 14}, {'y': 2, 'x': 15}, {'y': 2, 'x': 16}, {'y': 3, 'x': 10}, {'y': 3, 'x': 11}, {'y': 3, 'x': 12}, {'y': 3, 'x': 13}, {'y': 3, 'x': 14}, {'y': 3, 'x': 15}, {'y': 3, 'x': 16}, {'y': 4, 'x': 10}, {'y': 4, 'x': 11}, {'y': 4, 'x': 12}, {'y': 4, 'x': 13}, {'y': 4, 'x': 14}, {'y': 4, 'x': 15}, {'y': 4, 'x': 16}, {'y': 5, 'x': 10}, {'y': 5, 'x': 11}, {'y': 5, 'x': 12}, {'y': 5, 'x': 13}, {'y': 5, 'x': 14}, {'y': 5, 'x': 15}, {'y': 5, 'x': 16}, {'y': 6, 'x': 10}, {'y': 6, 'x': 11}, {'y': 6, 'x': 12}, {'y': 6, 'x': 13}, {'y': 6, 'x': 14}, {'y': 6, 'x': 15}, {'y': 6, 'x': 16}, {'y': 7, 'x': 10}, {'y': 7, 'x': 11}, {'y': 7, 'x': 12}, {'y': 7, 'x': 13}, {'y': 7, 'x': 14}, {'y': 7, 'x': 15}, {'y': 7, 'x': 16}, {'y': 8, 'x': 10}, {'y': 8, 'x': 11}, {'y': 8, 'x': 12}, {'y': 8, 'x': 13}, {'y': 8, 'x': 14}, {'y': 8, 'x': 15}, {'y': 8, 'x': 16}]}\n"
     ]
    }
   ],
   "source": [
    "print(str('Testing {}').format('GET /api/seba/v1/occupants/{id}/fire'))\n",
    "template = {\n",
    "    \"type\": \"object\",\n",
    "    \"properties\": {\n",
    "        \"positions\": {\n",
    "            \"type\": \"array\"\n",
    "            }\n",
    "    },\n",
    "    \"required\": [\"positions\"]\n",
    "}\n",
    "\n",
    "template2 = {\n",
    "    \"type\": \"object\",\n",
    "    \"properties\": {\n",
    "        \"x\": {\n",
    "            \"type\": \"number\"\n",
    "            },\n",
    "        \"y\": {\n",
    "            \"type\": \"number\"\n",
    "            }\n",
    "    },\n",
    "    \"required\": [\"x\", \"y\"]\n",
    "}\n",
    "\n",
    "for i in range(N):\n",
    "    url = URLBASE + URISEBA + \"/\" + str(100000) + \"/fire\"\n",
    "    data = requests.get(url)\n",
    "    datajson = data.json()\n",
    "    print(\"Response: \", datajson)\n",
    "    validate(datajson, template)\n",
    "    for m in datajson[\"positions\"]:\n",
    "        validate(m, template2)\n",
    "\n"
   ]
  },
  {
   "cell_type": "code",
   "execution_count": 31,
   "metadata": {
    "collapsed": false
   },
   "outputs": [
    {
     "name": "stdout",
     "output_type": "stream",
     "text": [
      "Testing GET /api/seba/v1/fire\n",
      "Response:  {'positions': [{'y': 4, 'x': 12}, {'y': 5, 'x': 13}, {'y': 4, 'x': 13}, {'y': 4, 'x': 11}, {'y': 3, 'x': 11}, {'y': 5, 'x': 12}, {'y': 3, 'x': 12}, {'y': 5, 'x': 11}, {'y': 3, 'x': 13}, {'y': 6, 'x': 14}, {'y': 5, 'x': 14}, {'y': 6, 'x': 13}, {'y': 6, 'x': 12}, {'y': 4, 'x': 14}, {'y': 3, 'x': 14}, {'y': 4, 'x': 10}, {'y': 3, 'x': 10}, {'y': 5, 'x': 10}, {'y': 2, 'x': 10}, {'y': 2, 'x': 11}, {'y': 2, 'x': 12}, {'y': 6, 'x': 11}, {'y': 2, 'x': 13}, {'y': 6, 'x': 10}, {'y': 2, 'x': 14}, {'y': 7, 'x': 15}, {'y': 6, 'x': 15}, {'y': 7, 'x': 14}, {'y': 7, 'x': 13}, {'y': 5, 'x': 15}, {'y': 4, 'x': 15}, {'y': 7, 'x': 12}, {'y': 7, 'x': 11}, {'y': 3, 'x': 15}, {'y': 2, 'x': 15}, {'y': 1, 'x': 10}, {'y': 1, 'x': 11}, {'y': 1, 'x': 12}, {'y': 1, 'x': 13}, {'y': 7, 'x': 10}, {'y': 1, 'x': 14}, {'y': 1, 'x': 15}, {'y': 8, 'x': 16}, {'y': 7, 'x': 16}, {'y': 8, 'x': 15}, {'y': 8, 'x': 14}, {'y': 6, 'x': 16}, {'y': 5, 'x': 16}, {'y': 8, 'x': 13}, {'y': 8, 'x': 12}, {'y': 4, 'x': 16}, {'y': 3, 'x': 16}, {'y': 8, 'x': 11}, {'y': 8, 'x': 10}, {'y': 2, 'x': 16}, {'y': 1, 'x': 16}]}\n"
     ]
    }
   ],
   "source": [
    "\n",
    "print(str('Testing {}').format('GET /api/seba/v1/fire'))\n",
    "template = {\n",
    "    \"type\": \"object\",\n",
    "    \"properties\": {\n",
    "        \"positions\": {\n",
    "            \"type\": \"array\"\n",
    "            }\n",
    "    },\n",
    "    \"required\": [\"positions\"]\n",
    "}\n",
    "\n",
    "template2 = {\n",
    "    \"type\": \"object\",\n",
    "    \"properties\": {\n",
    "        \"x\": {\n",
    "            \"type\": \"number\"\n",
    "            },\n",
    "        \"y\": {\n",
    "            \"type\": \"number\"\n",
    "            }\n",
    "    },\n",
    "    \"required\": [\"x\", \"y\"]\n",
    "}\n",
    "\n",
    "for i in range(N):\n",
    "    url = URLBASE + URIFIRE\n",
    "    data = requests.get(url)\n",
    "    datajson = data.json()\n",
    "    print(\"Response: \", datajson)\n",
    "    validate(datajson, template)\n",
    "    for m in datajson[\"positions\"]:\n",
    "        validate(m, template2)"
   ]
  }
 ],
 "metadata": {
  "anaconda-cloud": {},
  "kernelspec": {
   "display_name": "Python [conda root]",
   "language": "python",
   "name": "conda-root-py"
  },
  "language_info": {
   "codemirror_mode": {
    "name": "ipython",
    "version": 3
   },
   "file_extension": ".py",
   "mimetype": "text/x-python",
   "name": "python",
   "nbconvert_exporter": "python",
   "pygments_lexer": "ipython3",
   "version": "3.5.2"
  }
 },
 "nbformat": 4,
 "nbformat_minor": 1
}
