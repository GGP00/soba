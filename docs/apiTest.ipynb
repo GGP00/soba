{
 "cells": [
  {
   "cell_type": "markdown",
   "metadata": {},
   "source": [
    "# REST API Test "
   ]
  },
  {
   "cell_type": "markdown",
   "metadata": {},
   "source": [
    "Test execution guide\n",
    "--------------------"
   ]
  },
  {
   "cell_type": "markdown",
   "metadata": {},
   "source": [
    "To make a test of the REST service, the first thing to do is to make sure to run the SOBA example with the server option specified (-s), providing or not (optional) the port where the service will be defined.\n",
    "\n",
    "```bash\n",
    "        $ git clone https://github.com/gsi-upm/soba\n",
    "\n",
    "        $ cd soba/projects/examples\n",
    "\n",
    "        $ python3 continuousExample.py -v -s\n",
    "```\n",
    "\n",
    "Then, once the software has run, following the previous case, selecting the start option of the interface in the browser. Once the simulation has started, run the 'apiTest.py' test script. If a port was defined in the execution, change the variable port of the file to the chosen value.\n",
    "\n",
    "\n",
    "```bash\n",
    "\n",
    "        $ python3 apiTest.py\n",
    "```"
   ]
  },
  {
   "cell_type": "markdown",
   "metadata": {},
   "source": [
    "Tests in a notebook\n",
    "-------------------"
   ]
  },
  {
   "cell_type": "markdown",
   "metadata": {},
   "source": [
    "To execute the tests with greater control, it is recommended to download and use the jupyter notebook that is provided in the following address: [Notebook](https://github.com/gsi-upm/soba/blob/master/docs/apiTest.ipynb)\n",
    "\n",
    "This notebook is also presented below."
   ]
  },
  {
   "cell_type": "markdown",
   "metadata": {},
   "source": [
    "### Initialization of params"
   ]
  },
  {
   "cell_type": "code",
   "execution_count": 3,
   "metadata": {
    "collapsed": true
   },
   "outputs": [],
   "source": [
    "from unittest import TestCase\n",
    "import json, requests\n",
    "from jsonschema import validate\n",
    "import socket\n",
    "import unittest\n",
    "\n",
    "\n",
    "ipServer = socket.gethostbyname(socket.gethostname())\n",
    "\n",
    "#Port defined when executing, 10000 default\n",
    "port = '10000'\n",
    "\n",
    "#Template of the URLs\n",
    "URLBASE = \"http://127.0.0.1:\"+ port\n",
    "URISOBA = \"/api/soba/v1/occupants\"\n",
    "\n",
    "stringTemplate = {\"type\": \"string\"}\n",
    "numberTemplate = {\"type\": \"number\"}\n",
    "\n",
    "#Number of test for each pair (URI, Method) \n",
    "N = 1"
   ]
  },
  {
   "cell_type": "markdown",
   "metadata": {},
   "source": [
    "### Tests"
   ]
  },
  {
   "cell_type": "code",
   "execution_count": 8,
   "metadata": {
    "collapsed": false
   },
   "outputs": [
    {
     "name": "stdout",
     "output_type": "stream",
     "text": [
      "Testing GET /api/soba/v1/occupants\n",
      "Response:  {'occupants': [1, 0, 3, 100000, 2]}\n"
     ]
    }
   ],
   "source": [
    "print(str('Testing {}').format('GET /api/soba/v1/occupants'))\n",
    "template = {\n",
    "    \"type\": \"object\",\n",
    "    \"properties\": {\n",
    "        \"occupants\": {\n",
    "            \"type\": \"array\"\n",
    "            }\n",
    "    },\n",
    "    \"required\": [\"occupants\"]\n",
    "}\n",
    "\n",
    "for i in range(N):\n",
    "    url = URLBASE + URISOBA\n",
    "    data = requests.get(url)\n",
    "    datajson = data.json()\n",
    "    print(\"Response: \", datajson)\n",
    "    validate(datajson, template)\n",
    "    for o in datajson[\"occupants\"]:\n",
    "        validate(o, numberTemplate)"
   ]
  },
  {
   "cell_type": "code",
   "execution_count": 9,
   "metadata": {
    "collapsed": false
   },
   "outputs": [
    {
     "name": "stdout",
     "output_type": "stream",
     "text": [
      "Testing GET /api/soba/v1/occupants/movements\n",
      "Response:  {'0': {'speed': 1.38, 'orientation': 'SE'}, '1': {'speed': 1.38, 'orientation': 'W'}, '2': {'speed': 1.38, 'orientation': 'SE'}, '3': {'speed': 1.38, 'orientation': 'E'}}\n"
     ]
    }
   ],
   "source": [
    "print(str('Testing {}').format('GET /api/soba/v1/occupants/movements'))\n",
    "template = {\n",
    "    \"type\": \"object\",\n",
    "    \"properties\": {\n",
    "        \"orientation\": {\n",
    "            \"type\": \"string\"\n",
    "            },\n",
    "        \"speed\": {\n",
    "            \"type\": \"number\"\n",
    "            }\n",
    "    },\n",
    "    \"required\": [\"orientation\", \"speed\"]\n",
    "}\n",
    "\n",
    "template2 = {\n",
    "    \"type\": \"object\"\n",
    "}\n",
    "\n",
    "for i in range(N):\n",
    "    url = URLBASE + URISOBA + \"/movements\"\n",
    "    data = requests.get(url)\n",
    "    datajson = data.json()\n",
    "    print(\"Response: \", datajson)\n",
    "    validate(datajson, template2)\n",
    "    for k, v  in datajson.items():\n",
    "        validate(k, stringTemplate)\n",
    "        validate(int(k), numberTemplate)\n",
    "        validate(v, template)"
   ]
  },
  {
   "cell_type": "code",
   "execution_count": 10,
   "metadata": {
    "collapsed": false
   },
   "outputs": [
    {
     "name": "stdout",
     "output_type": "stream",
     "text": [
      "Testing GET /api/soba/v1/occupants/positions\n",
      "Response:  {'0': {'y': 8, 'x': 12}, '1': {'y': 6, 'x': 0}, '2': {'y': 8, 'x': 13}, '100000': {'y': 7, 'x': 5}, '3': {'y': 6, 'x': 14}}\n"
     ]
    }
   ],
   "source": [
    "print(str('Testing {}').format('GET /api/soba/v1/occupants/positions'))\n",
    "template = {\n",
    "    \"type\": \"object\",\n",
    "    \"properties\": {\n",
    "        \"x\": {\n",
    "            \"type\": \"number\"\n",
    "            },\n",
    "        \"y\": {\n",
    "            \"type\": \"number\"\n",
    "            }\n",
    "    },\n",
    "    \"required\": [\"x\", \"y\"]\n",
    "}\n",
    "\n",
    "for i in range(N):\n",
    "    url = URLBASE + URISOBA + \"/positions\"\n",
    "    data = requests.get(url)\n",
    "    datajson = data.json()\n",
    "    print(\"Response: \", datajson)\n",
    "    for k, v in datajson.items():\n",
    "        validate(k, stringTemplate)\n",
    "        validate(int(k), numberTemplate)\n",
    "        validate(v, template)"
   ]
  },
  {
   "cell_type": "code",
   "execution_count": 11,
   "metadata": {
    "collapsed": false
   },
   "outputs": [
    {
     "name": "stdout",
     "output_type": "stream",
     "text": [
      "Testing GET /api/soba/v1/occupants/states\n",
      "Response:  {'0': 'Working in my laboratory', '1': 'Working in my laboratory', '2': 'Working in my laboratory', '100000': 'walking', '3': 'Working in my laboratory'}\n"
     ]
    }
   ],
   "source": [
    "print(str('Testing {}').format('GET /api/soba/v1/occupants/states'))\n",
    "for i in range(N):\n",
    "    url = URLBASE + URISOBA + \"/states\"\n",
    "    data = requests.get(url)\n",
    "    datajson = data.json()\n",
    "    print(\"Response: \", datajson)\n",
    "    for k,v in datajson.items():\n",
    "        validate(v, stringTemplate)\n",
    "        validate(k, stringTemplate)\n",
    "        validate(int(k), numberTemplate)"
   ]
  },
  {
   "cell_type": "code",
   "execution_count": 12,
   "metadata": {
    "collapsed": false
   },
   "outputs": [
    {
     "name": "stdout",
     "output_type": "stream",
     "text": [
      "Testing GET /api/soba/v1/occupants/{id}\n",
      "Response:  {'occupant': {'unique_id': '0', 'fov': [{'y': 0, 'x': 9}, {'y': 0, 'x': 10}, {'y': 0, 'x': 11}, {'y': 0, 'x': 12}, {'y': 0, 'x': 13}, {'y': 0, 'x': 14}, {'y': 0, 'x': 15}, {'y': 0, 'x': 16}, {'y': 0, 'x': 17}, {'y': 0, 'x': 18}, {'y': 1, 'x': 9}, {'y': 1, 'x': 10}, {'y': 1, 'x': 11}, {'y': 1, 'x': 12}, {'y': 1, 'x': 13}, {'y': 1, 'x': 14}, {'y': 1, 'x': 15}, {'y': 1, 'x': 16}, {'y': 1, 'x': 17}, {'y': 1, 'x': 18}, {'y': 2, 'x': 9}, {'y': 2, 'x': 10}, {'y': 2, 'x': 11}, {'y': 2, 'x': 12}, {'y': 2, 'x': 13}, {'y': 2, 'x': 14}, {'y': 2, 'x': 15}, {'y': 2, 'x': 16}, {'y': 2, 'x': 17}, {'y': 2, 'x': 18}, {'y': 3, 'x': 9}, {'y': 3, 'x': 10}, {'y': 3, 'x': 11}, {'y': 3, 'x': 12}, {'y': 3, 'x': 13}, {'y': 3, 'x': 14}, {'y': 3, 'x': 15}, {'y': 3, 'x': 16}, {'y': 3, 'x': 17}, {'y': 3, 'x': 18}, {'y': 4, 'x': 9}, {'y': 4, 'x': 10}, {'y': 4, 'x': 11}, {'y': 4, 'x': 12}, {'y': 4, 'x': 13}, {'y': 4, 'x': 14}, {'y': 4, 'x': 15}, {'y': 4, 'x': 16}, {'y': 4, 'x': 17}, {'y': 4, 'x': 18}, {'y': 4, 'x': 19}, {'y': 5, 'x': 9}, {'y': 5, 'x': 10}, {'y': 5, 'x': 11}, {'y': 5, 'x': 12}, {'y': 5, 'x': 13}, {'y': 5, 'x': 14}, {'y': 5, 'x': 15}, {'y': 5, 'x': 16}, {'y': 5, 'x': 17}, {'y': 5, 'x': 18}, {'y': 5, 'x': 19}, {'y': 6, 'x': 9}, {'y': 6, 'x': 10}, {'y': 6, 'x': 11}, {'y': 6, 'x': 12}, {'y': 6, 'x': 13}, {'y': 6, 'x': 14}, {'y': 6, 'x': 15}, {'y': 6, 'x': 16}, {'y': 6, 'x': 17}, {'y': 6, 'x': 18}, {'y': 6, 'x': 19}, {'y': 7, 'x': 9}, {'y': 7, 'x': 10}, {'y': 7, 'x': 11}, {'y': 7, 'x': 12}, {'y': 7, 'x': 13}, {'y': 7, 'x': 14}, {'y': 7, 'x': 15}, {'y': 7, 'x': 16}, {'y': 7, 'x': 17}, {'y': 7, 'x': 18}, {'y': 8, 'x': 9}, {'y': 8, 'x': 10}, {'y': 8, 'x': 11}, {'y': 8, 'x': 13}, {'y': 8, 'x': 14}, {'y': 8, 'x': 15}, {'y': 8, 'x': 16}, {'y': 8, 'x': 17}, {'y': 8, 'x': 18}, {'y': 9, 'x': 9}, {'y': 9, 'x': 10}, {'y': 9, 'x': 11}, {'y': 9, 'x': 12}, {'y': 9, 'x': 13}, {'y': 9, 'x': 14}, {'y': 9, 'x': 15}, {'y': 9, 'x': 16}, {'y': 9, 'x': 17}, {'y': 9, 'x': 18}, {'y': 10, 'x': 8}, {'y': 10, 'x': 9}, {'y': 10, 'x': 10}, {'y': 10, 'x': 11}, {'y': 10, 'x': 12}, {'y': 10, 'x': 13}, {'y': 10, 'x': 14}, {'y': 10, 'x': 15}, {'y': 10, 'x': 16}, {'y': 10, 'x': 17}, {'y': 10, 'x': 18}, {'y': 11, 'x': 6}, {'y': 11, 'x': 7}, {'y': 11, 'x': 8}, {'y': 11, 'x': 9}, {'y': 11, 'x': 10}, {'y': 11, 'x': 11}, {'y': 12, 'x': 4}, {'y': 12, 'x': 5}, {'y': 12, 'x': 6}, {'y': 12, 'x': 7}, {'y': 12, 'x': 8}, {'y': 12, 'x': 9}, {'y': 12, 'x': 10}, {'y': 12, 'x': 11}, {'y': 13, 'x': 3}, {'y': 13, 'x': 4}, {'y': 13, 'x': 5}, {'y': 13, 'x': 6}, {'y': 13, 'x': 7}, {'y': 13, 'x': 8}, {'y': 13, 'x': 9}, {'y': 13, 'x': 10}, {'y': 13, 'x': 11}, {'y': 14, 'x': 1}, {'y': 14, 'x': 2}, {'y': 14, 'x': 3}, {'y': 14, 'x': 4}, {'y': 14, 'x': 5}, {'y': 14, 'x': 6}, {'y': 14, 'x': 7}, {'y': 14, 'x': 8}, {'y': 14, 'x': 9}, {'y': 14, 'x': 10}, {'y': 15, 'x': 0}, {'y': 15, 'x': 1}, {'y': 15, 'x': 2}, {'y': 15, 'x': 3}, {'y': 15, 'x': 4}, {'y': 15, 'x': 5}, {'y': 15, 'x': 6}, {'y': 15, 'x': 7}, {'y': 15, 'x': 8}, {'y': 15, 'x': 9}, {'y': 15, 'x': 10}, {'y': 16, 'x': 0}, {'y': 16, 'x': 1}, {'y': 16, 'x': 2}, {'y': 16, 'x': 3}, {'y': 16, 'x': 4}, {'y': 16, 'x': 5}, {'y': 16, 'x': 6}, {'y': 16, 'x': 7}, {'y': 16, 'x': 8}, {'y': 16, 'x': 9}, {'y': 16, 'x': 10}, {'y': 17, 'x': 0}, {'y': 17, 'x': 1}, {'y': 17, 'x': 2}, {'y': 17, 'x': 3}, {'y': 17, 'x': 4}, {'y': 17, 'x': 5}, {'y': 17, 'x': 6}, {'y': 17, 'x': 7}, {'y': 17, 'x': 8}, {'y': 17, 'x': 9}, {'y': 18, 'x': 0}, {'y': 18, 'x': 1}, {'y': 18, 'x': 2}, {'y': 18, 'x': 3}, {'y': 18, 'x': 4}, {'y': 18, 'x': 5}, {'y': 18, 'x': 6}, {'y': 18, 'x': 7}, {'y': 18, 'x': 8}, {'y': 18, 'x': 9}], 'state': 'Working in my laboratory', 'position': {'y': 8, 'x': 12}, 'movement': {'speed': 1.38, 'orientation': 'SE'}}}\n",
      "{'type': 'object', 'required': ['occupant'], 'properties': {'occupant': {'type': 'object', 'required': ['state', 'fov', 'unique_id', 'movement', 'position'], 'properties': {'unique_id': {'type': 'string'}, 'fov': {'type': 'array'}, 'position': {'type': 'object', 'required': ['x', 'y'], 'properties': {'y': {'type': 'number'}, 'x': {'type': 'number'}}}, 'state': {'type': 'string'}, 'movement': {'type': 'object', 'required': ['orientation', 'speed'], 'properties': {'speed': {'type': 'number'}, 'orientation': {'type': 'string'}}}}}}}\n"
     ]
    }
   ],
   "source": [
    "print(str('Testing {}').format('GET /api/soba/v1/occupants/{id}'))\n",
    "template = {\n",
    "    \"type\": \"object\",\n",
    "    \"properties\": {\n",
    "        \"occupant\":{\n",
    "            \"type\": \"object\",\n",
    "            \"properties\": {\n",
    "                    \"state\":{\n",
    "                        \"type\": \"string\"\n",
    "                    },\n",
    "                    \"fov\": {\n",
    "                        \"type\": \"array\"\n",
    "                    },\n",
    "                    \"unique_id\":{\n",
    "                        \"type\": \"string\"\n",
    "                    },\n",
    "                    \"movement\": {\n",
    "                        \"type\": \"object\",\n",
    "                        \"properties\": {\n",
    "                            \"orientation\":{\n",
    "                                \"type\": \"string\"\n",
    "                            },\n",
    "                            \"speed\":{\n",
    "                                \"type\": \"number\"\n",
    "                            },\n",
    "                        },\n",
    "                        \"required\": [\"orientation\", \"speed\"]\n",
    "                    },\n",
    "                    \"position\": {\n",
    "                        \"type\": \"object\",\n",
    "                        \"properties\": {\n",
    "                            \"x\":{\n",
    "                                \"type\": \"number\"\n",
    "                            },\n",
    "                            \"y\":{\n",
    "                                \"type\": \"number\"\n",
    "                            }\n",
    "                        },\n",
    "                        \"required\": [\"x\", \"y\"]\n",
    "                    }\n",
    "            },\n",
    "    \"required\": [\"state\", \"fov\", \"unique_id\", \"movement\", \"position\"]\n",
    "        }\n",
    "    },\n",
    "    \"required\": [\"occupant\"]\n",
    "}\n",
    "\n",
    "template2 = {\n",
    "    \"type\": \"object\",\n",
    "    \"properties\": {\n",
    "        \"x\": {\n",
    "            \"type\": \"number\"\n",
    "            },\n",
    "        \"y\": {\n",
    "            \"type\": \"number\"\n",
    "        }\n",
    "    },\n",
    "    \"required\": [\"x\", \"y\"]\n",
    "}\n",
    "\n",
    "for i in range(N):\n",
    "    url = URLBASE + URISOBA + \"/\" + str(0)\n",
    "    data = requests.get(url)\n",
    "    datajson = data.json()\n",
    "    print(\"Response: \", datajson)\n",
    "    validate(datajson, template)\n",
    "    validate(int(datajson['occupant']['unique_id']), numberTemplate)\n",
    "    print(template)\n",
    "    for p in datajson['occupant']['fov']:\n",
    "        validate(p, template2)"
   ]
  },
  {
   "cell_type": "code",
   "execution_count": 13,
   "metadata": {
    "collapsed": false
   },
   "outputs": [
    {
     "name": "stdout",
     "output_type": "stream",
     "text": [
      "Testing GET /api/soba/v1/occupants/{id}/movement\n",
      "Response:  {'movement': {'speed': 1.38, 'orientation': 'SE'}}\n"
     ]
    }
   ],
   "source": [
    "print(str('Testing {}').format('GET /api/soba/v1/occupants/{id}/movement'))\n",
    "template = {\n",
    "    \"type\": \"object\",\n",
    "    \"properties\": {\n",
    "        \"movement\":{\n",
    "            \"type\": \"object\",\n",
    "            \"properties\": {\n",
    "                    \"orientation\": {\n",
    "                        \"type\": \"string\"\n",
    "                    },\n",
    "                    \"speed\": {\n",
    "                        \"type\": \"number\"\n",
    "                    }\n",
    "            },\n",
    "        \"required\": [\"orientation\", \"speed\"]\n",
    "        }\n",
    "    },\n",
    "    \"required\": [\"movement\"]\n",
    "}\n",
    "\n",
    "for i in range(N):\n",
    "    url = URLBASE + URISOBA + \"/\" + str(0) + \"/movement\"\n",
    "    data = requests.get(url)\n",
    "    datajson = data.json()\n",
    "    print(\"Response: \", datajson)\n",
    "    validate(datajson, template)"
   ]
  },
  {
   "cell_type": "code",
   "execution_count": 14,
   "metadata": {
    "collapsed": false
   },
   "outputs": [
    {
     "name": "stdout",
     "output_type": "stream",
     "text": [
      "Testing GET /api/soba/v1/occupants/{id}/position\n",
      "Response:  {'position': {'y': 8, 'x': 12}}\n"
     ]
    }
   ],
   "source": [
    "print(str('Testing {}').format('GET /api/soba/v1/occupants/{id}/position'))\n",
    "template = {\n",
    "    \"type\": \"object\",\n",
    "    \"properties\": {\n",
    "        \"position\":{\n",
    "            \"type\": \"object\",\n",
    "            \"properties\": {\n",
    "                \"x\": {\n",
    "                    \"type\": \"number\"\n",
    "                    },\n",
    "                \"y\": {\n",
    "                    \"type\": \"number\"\n",
    "                }\n",
    "            },\n",
    "            \"required\": [\"x\", \"y\"]\n",
    "        }\n",
    "    },\n",
    "    \"required\": [\"position\"]\n",
    "}\n",
    "\n",
    "for i in range(N):\n",
    "    url = URLBASE + URISOBA + \"/\" + str(0) + \"/position\"\n",
    "    data = requests.get(url)\n",
    "    datajson = data.json()\n",
    "    print(\"Response: \", datajson)\n",
    "    validate(datajson, template)"
   ]
  },
  {
   "cell_type": "code",
   "execution_count": 15,
   "metadata": {
    "collapsed": false
   },
   "outputs": [
    {
     "name": "stdout",
     "output_type": "stream",
     "text": [
      "Testing GET /api/soba/v1/occupants/{id}/state\n",
      "Response:  {'state': 'Working in my laboratory'}\n"
     ]
    }
   ],
   "source": [
    "print(str('Testing {}').format('GET /api/soba/v1/occupants/{id}/state'))\n",
    "template = {\n",
    "    \"type\": \"object\",\n",
    "    \"properties\":{\n",
    "        \"state\": {\n",
    "            \"type\": \"string\"\n",
    "        }\n",
    "    },\n",
    "    \"required\": [\"state\"]\n",
    "}\n",
    "\n",
    "for i in range(N):\n",
    "    url = URLBASE + URISOBA + \"/\" + str(0) + \"/state\"\n",
    "    data = requests.get(url)\n",
    "    datajson = data.json()\n",
    "    print(\"Response: \", datajson)\n",
    "    validate(datajson, template)\n"
   ]
  },
  {
   "cell_type": "code",
   "execution_count": 21,
   "metadata": {
    "collapsed": false
   },
   "outputs": [
    {
     "name": "stdout",
     "output_type": "stream",
     "text": [
      "Testing GET /api/soba/v1/occupants/{id}/fov\n",
      "Response:  {'fov': [{'y': 0, 'x': 9}, {'y': 0, 'x': 10}, {'y': 0, 'x': 11}, {'y': 0, 'x': 12}, {'y': 0, 'x': 13}, {'y': 0, 'x': 14}, {'y': 0, 'x': 15}, {'y': 0, 'x': 16}, {'y': 0, 'x': 17}, {'y': 0, 'x': 18}, {'y': 1, 'x': 9}, {'y': 1, 'x': 10}, {'y': 1, 'x': 11}, {'y': 1, 'x': 12}, {'y': 1, 'x': 13}, {'y': 1, 'x': 14}, {'y': 1, 'x': 15}, {'y': 1, 'x': 16}, {'y': 1, 'x': 17}, {'y': 1, 'x': 18}, {'y': 2, 'x': 9}, {'y': 2, 'x': 10}, {'y': 2, 'x': 11}, {'y': 2, 'x': 12}, {'y': 2, 'x': 13}, {'y': 2, 'x': 14}, {'y': 2, 'x': 15}, {'y': 2, 'x': 16}, {'y': 2, 'x': 17}, {'y': 2, 'x': 18}, {'y': 3, 'x': 9}, {'y': 3, 'x': 10}, {'y': 3, 'x': 11}, {'y': 3, 'x': 12}, {'y': 3, 'x': 13}, {'y': 3, 'x': 14}, {'y': 3, 'x': 15}, {'y': 3, 'x': 16}, {'y': 3, 'x': 17}, {'y': 3, 'x': 18}, {'y': 4, 'x': 9}, {'y': 4, 'x': 10}, {'y': 4, 'x': 11}, {'y': 4, 'x': 12}, {'y': 4, 'x': 13}, {'y': 4, 'x': 14}, {'y': 4, 'x': 15}, {'y': 4, 'x': 16}, {'y': 4, 'x': 17}, {'y': 4, 'x': 18}, {'y': 4, 'x': 19}, {'y': 5, 'x': 9}, {'y': 5, 'x': 10}, {'y': 5, 'x': 11}, {'y': 5, 'x': 12}, {'y': 5, 'x': 13}, {'y': 5, 'x': 14}, {'y': 5, 'x': 15}, {'y': 5, 'x': 16}, {'y': 5, 'x': 17}, {'y': 5, 'x': 18}, {'y': 5, 'x': 19}, {'y': 6, 'x': 9}, {'y': 6, 'x': 10}, {'y': 6, 'x': 11}, {'y': 6, 'x': 12}, {'y': 6, 'x': 13}, {'y': 6, 'x': 14}, {'y': 6, 'x': 15}, {'y': 6, 'x': 16}, {'y': 6, 'x': 17}, {'y': 6, 'x': 18}, {'y': 6, 'x': 19}, {'y': 7, 'x': 9}, {'y': 7, 'x': 10}, {'y': 7, 'x': 11}, {'y': 7, 'x': 12}, {'y': 7, 'x': 13}, {'y': 7, 'x': 14}, {'y': 7, 'x': 15}, {'y': 7, 'x': 16}, {'y': 7, 'x': 17}, {'y': 7, 'x': 18}, {'y': 8, 'x': 9}, {'y': 8, 'x': 10}, {'y': 8, 'x': 11}, {'y': 8, 'x': 13}, {'y': 8, 'x': 14}, {'y': 8, 'x': 15}, {'y': 8, 'x': 16}, {'y': 8, 'x': 17}, {'y': 8, 'x': 18}, {'y': 9, 'x': 9}, {'y': 9, 'x': 10}, {'y': 9, 'x': 11}, {'y': 9, 'x': 12}, {'y': 9, 'x': 13}, {'y': 9, 'x': 14}, {'y': 9, 'x': 15}, {'y': 9, 'x': 16}, {'y': 9, 'x': 17}, {'y': 9, 'x': 18}, {'y': 10, 'x': 8}, {'y': 10, 'x': 9}, {'y': 10, 'x': 10}, {'y': 10, 'x': 11}, {'y': 10, 'x': 12}, {'y': 10, 'x': 13}, {'y': 10, 'x': 14}, {'y': 10, 'x': 15}, {'y': 10, 'x': 16}, {'y': 10, 'x': 17}, {'y': 10, 'x': 18}, {'y': 11, 'x': 6}, {'y': 11, 'x': 7}, {'y': 11, 'x': 8}, {'y': 11, 'x': 9}, {'y': 11, 'x': 10}, {'y': 11, 'x': 11}, {'y': 12, 'x': 4}, {'y': 12, 'x': 5}, {'y': 12, 'x': 6}, {'y': 12, 'x': 7}, {'y': 12, 'x': 8}, {'y': 12, 'x': 9}, {'y': 12, 'x': 10}, {'y': 12, 'x': 11}, {'y': 13, 'x': 3}, {'y': 13, 'x': 4}, {'y': 13, 'x': 5}, {'y': 13, 'x': 6}, {'y': 13, 'x': 7}, {'y': 13, 'x': 8}, {'y': 13, 'x': 9}, {'y': 13, 'x': 10}, {'y': 13, 'x': 11}, {'y': 14, 'x': 1}, {'y': 14, 'x': 2}, {'y': 14, 'x': 3}, {'y': 14, 'x': 4}, {'y': 14, 'x': 5}, {'y': 14, 'x': 6}, {'y': 14, 'x': 7}, {'y': 14, 'x': 8}, {'y': 14, 'x': 9}, {'y': 14, 'x': 10}, {'y': 15, 'x': 0}, {'y': 15, 'x': 1}, {'y': 15, 'x': 2}, {'y': 15, 'x': 3}, {'y': 15, 'x': 4}, {'y': 15, 'x': 5}, {'y': 15, 'x': 6}, {'y': 15, 'x': 7}, {'y': 15, 'x': 8}, {'y': 15, 'x': 9}, {'y': 15, 'x': 10}, {'y': 16, 'x': 0}, {'y': 16, 'x': 1}, {'y': 16, 'x': 2}, {'y': 16, 'x': 3}, {'y': 16, 'x': 4}, {'y': 16, 'x': 5}, {'y': 16, 'x': 6}, {'y': 16, 'x': 7}, {'y': 16, 'x': 8}, {'y': 16, 'x': 9}, {'y': 16, 'x': 10}, {'y': 17, 'x': 0}, {'y': 17, 'x': 1}, {'y': 17, 'x': 2}, {'y': 17, 'x': 3}, {'y': 17, 'x': 4}, {'y': 17, 'x': 5}, {'y': 17, 'x': 6}, {'y': 17, 'x': 7}, {'y': 17, 'x': 8}, {'y': 17, 'x': 9}, {'y': 18, 'x': 0}, {'y': 18, 'x': 1}, {'y': 18, 'x': 2}, {'y': 18, 'x': 3}, {'y': 18, 'x': 4}, {'y': 18, 'x': 5}, {'y': 18, 'x': 6}, {'y': 18, 'x': 7}, {'y': 18, 'x': 8}, {'y': 18, 'x': 9}]}\n"
     ]
    }
   ],
   "source": [
    "print(str('Testing {}').format('GET /api/soba/v1/occupants/{id}/fov'))\n",
    "template = {\n",
    "    \"type\": \"object\",\n",
    "    \"properties\": {\n",
    "        \"fov\": {\n",
    "            \"type\": \"array\"\n",
    "            }\n",
    "    },\n",
    "    \"required\": [\"fov\"]\n",
    "}\n",
    "\n",
    "\n",
    "template2 = {\n",
    "    \"type\": \"object\",\n",
    "    \"properties\": {\n",
    "        \"x\": {\n",
    "            \"type\": \"number\"\n",
    "            },\n",
    "        \"y\": {\n",
    "            \"type\": \"number\"\n",
    "        }\n",
    "    },\n",
    "    \"required\": [\"x\", \"y\"]\n",
    "}\n",
    "\n",
    "for i in range(N):\n",
    "    url = URLBASE + URISOBA + \"/\" + str(0) + \"/fov\"\n",
    "    data = requests.get(url)\n",
    "    datajson = data.json()\n",
    "    print(\"Response: \", datajson)\n",
    "    validate(datajson, template)\n",
    "    for p in datajson['fov']:\n",
    "        validate(p, template2)\n"
   ]
  },
  {
   "cell_type": "code",
   "execution_count": 5,
   "metadata": {
    "collapsed": false
   },
   "outputs": [
    {
     "name": "stdout",
     "output_type": "stream",
     "text": [
      "Testing PUT /api/soba/v1/occupants/{id}\n",
      "Response:  {'avatar': {'position': {'y': 10, 'x': 10}, 'id': 100000}}\n"
     ]
    }
   ],
   "source": [
    "print(str('Testing {}').format('PUT /api/soba/v1/occupants/{id}'))\n",
    "template = {\n",
    "    \"type\": \"object\",\n",
    "        \"properties\": {\n",
    "            \"avatar\":{\n",
    "                \"type\": \"object\",\n",
    "                \"properties\": {\n",
    "                    \"position\":{\n",
    "                        \"type\": \"object\",\n",
    "                        \"properties\": {\n",
    "                            \"x\": {\n",
    "                                \"type\": \"number\",\n",
    "                            },\n",
    "                            \"y\": {\n",
    "                                \"type\": \"number\"\n",
    "                            }\n",
    "                        },\n",
    "                        \"required\": [\"x\", \"y\"]\n",
    "                    },\n",
    "                    \"id\":{\n",
    "                        \"type\": \"number\"\n",
    "                    }\n",
    "            },\n",
    "            \"required\": [\"position\", \"id\"]\n",
    "        }\n",
    "    },\n",
    "    \"required\": [\"avatar\"]\n",
    "}\n",
    "\n",
    "dataBody = {\"x\": 10, \"y\": 10}\n",
    "\n",
    "for i in range(N):\n",
    "    url = URLBASE + URISOBA + \"/\" + str(0)\n",
    "    data = requests.put(url, json=dataBody, headers={'Content-Type': \"application/json\", 'Accept': \"application/json\"})\n",
    "    datajson = data.json()\n",
    "    print(\"Response: \", datajson)\n",
    "    validate(datajson, template)\n"
   ]
  },
  {
   "cell_type": "code",
   "execution_count": 7,
   "metadata": {
    "collapsed": false
   },
   "outputs": [
    {
     "name": "stdout",
     "output_type": "stream",
     "text": [
      "Testing POST /api/soba/v1/occupants/{id}/position\n",
      "Response:  {'avatar': {'position': {'y': 7, 'x': 5}, 'id': 100000}}\n"
     ]
    }
   ],
   "source": [
    "print(str('Testing {}').format('POST /api/soba/v1/occupants/{id}/position'))\n",
    "template = {\n",
    "    \"type\": \"object\",\n",
    "        \"properties\": {\n",
    "            \"avatar\":{\n",
    "                \"type\": \"object\",\n",
    "                \"properties\": {\n",
    "                    \"position\":{\n",
    "                        \"type\": \"object\",\n",
    "                        \"properties\": {\n",
    "                            \"x\": {\n",
    "                                \"type\": \"number\",\n",
    "                            },\n",
    "                            \"y\": {\n",
    "                                \"type\": \"number\"\n",
    "                            }\n",
    "                        },\n",
    "                        \"required\": [\"x\", \"y\"]\n",
    "                    },\n",
    "                    \"id\":{\n",
    "                        \"type\": \"number\"\n",
    "                    }\n",
    "            },\n",
    "            \"required\": [\"position\", \"id\"]\n",
    "        }\n",
    "    },\n",
    "    \"required\": [\"avatar\"]\n",
    "}\n",
    "\n",
    "dataBody = {\"x\": 5, \"y\": 7}\n",
    "\n",
    "for i in range(N):\n",
    "    url = URLBASE + URISOBA + \"/\" + str(100000) + \"/position\"\n",
    "    data = requests.post(url, json=dataBody, headers={'Content-Type': \"application/json\", 'Accept': \"application/json\"})\n",
    "    datajson = data.json()\n",
    "    print(\"Response: \", datajson)\n",
    "    validate(datajson, template)"
   ]
  }
 ],
 "metadata": {
  "anaconda-cloud": {},
  "kernelspec": {
   "display_name": "Python [conda root]",
   "language": "python",
   "name": "conda-root-py"
  },
  "language_info": {
   "codemirror_mode": {
    "name": "ipython",
    "version": 3
   },
   "file_extension": ".py",
   "mimetype": "text/x-python",
   "name": "python",
   "nbconvert_exporter": "python",
   "pygments_lexer": "ipython3",
   "version": "3.5.2"
  }
 },
 "nbformat": 4,
 "nbformat_minor": 1
}
