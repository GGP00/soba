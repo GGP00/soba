{
 "cells": [
  {
   "cell_type": "markdown",
   "metadata": {},
   "source": [
    "## Instalation\n",
    "\n",
    "If the SOBA package is not yet installed, we must first do so. To install SOBA the best option is to use the package management system PIP. For this, we execute the following command.\n",
    "\n",
    "```bash\n",
    "    $ pip install soba\n",
    "```\n",
    "\n",
    "In case of error, this other command should be used, ensuring to have installed python 3 and pip 3.\n",
    "\n",
    "```bash\n",
    "    $ pip3 install soba\n",
    "```"
   ]
  },
  {
   "cell_type": "markdown",
   "metadata": {},
   "source": [
    "# Introductory Tutorial"
   ]
  },
  {
   "cell_type": "markdown",
   "metadata": {},
   "source": [
    "## Tutorial\n",
    "\n",
    "The SOBA tool can be provided to be used directly on two scenarios:\n",
    "\n",
    "1. Generic case with a space defined as a grid of a given square size (by default, half a meter on each side).\n",
    "2. Simplified case with a room defined by rooms, to perform simulations in simplified buildings that require less consumption of resources and specifications.\n",
    "\n",
    "An introductory tutorial will be presented for each case, although most parameters are common or similar.\n",
    "\n",
    "SOBA enables the performance of the simulations in two modes:\n",
    "\n",
    "1. With visual representation.\n",
    "2. In batch mode. \n",
    "\n",
    "In the tutorials, the small modifications required to use each posibility are reflected.\n",
    "\n",
    "\n",
    "In addition, two added mechanisms are provided to interact with the simulation:\n",
    "\n",
    "1. Use an API on a REST server to obtain information and create and manage avatars.\n",
    "2. use the external tool [RAMEN](https://github.com/gsi-upm/RAMEN) for advanced 3D-visualization on Three.js. \n",
    "\n",
    "IMPORTANT NOTE: The .py files described in this tutorial are available in the github repository \n",
    "https://github.com/gsi-upm/soba/tree/master/projects/basicExamples"
   ]
  },
  {
   "cell_type": "markdown",
   "metadata": {},
   "source": [
    "### Implementing  a sample model with continuous space\n",
    "\n",
    "Once soba is installed, the implementation can be started. First we define the generic parameters to both types of scenario.\n",
    "\n",
    "1.- We define the characteristics of the occupants"
   ]
  },
  {
   "cell_type": "code",
   "execution_count": 5,
   "metadata": {
    "collapsed": true
   },
   "outputs": [],
   "source": [
    "from collections import OrderedDict\n",
    "#JSON to store all the informacion.\n",
    "jsonsOccupants = []\n",
    "\n",
    "#Number of occupants\n",
    "N = 3\n",
    "\n",
    "#Definition of the states\n",
    "states = OrderedDict([('Leaving','out'), ('Resting', 'sofa'), ('Working in my laboratory', 'wp')])\n",
    "\n",
    "#Definition of the schedule\n",
    "schedule = {'t1': \"08:01:00\", 't2': \"08:10:00\", 't3': \"08:20:00\"}\n",
    "\n",
    "#Possible Variation on the schedule\n",
    "variation = {'t1': \"00:01:00\", 't2': \"00:01:00\", 't3': \"00:01:00\"}\n",
    "\n",
    "#Probability of state change associated with the Markovian chain as a function of the temporal period\n",
    "markovActivity = {\n",
    "    '-t1': [[100, 0, 0], [0, 0, 0], [0, 0, 0]],\n",
    "    't1-t2': [[0, 0, 100], [0, 50, 50], [0, 50, 50]],\n",
    "    't2-t3': [[100, 0, 0], [0, 50, 50], [0, 50, 50]],\n",
    "    't3-': [[0, 0, 100], [0, 100, 0], [0, 100, 0]]\n",
    "}\n",
    "\n",
    "#Time associated to each state (minutes)\n",
    "timeActivity = {\n",
    "    '-t1': [3, 0, 0], 't1-t2': [3, 3, 3], 't2-t3': [3, 3, 3], 't3-': [3, 3, 3]\n",
    "}\n",
    "\n",
    "\n",
    "#Time variation associated to each state (minutes)\n",
    "timeActivityVariation = {\n",
    "    '-t1': [1, 0, 0], 't1-t2': [1, 1, 1], 't2-t3': [1, 1, 1], 't3-': [1, 1, 1]\n",
    "}\n",
    "\n",
    "#Store the information\n",
    "jsonOccupant = {'type': 'example' , 'N': N, 'states': states , 'schedule': schedule, 'variation': variation,\n",
    "'markovActivity': markovActivity, 'timeActivity': timeActivity, \"timeActivityVariation\": timeActivityVariation}\n",
    "\n",
    "jsonsOccupants.append(jsonOccupant)"
   ]
  },
  {
   "cell_type": "markdown",
   "metadata": {},
   "source": [
    "2.- We define the building plan or the distribution of the space."
   ]
  },
  {
   "cell_type": "code",
   "execution_count": 6,
   "metadata": {
    "collapsed": false
   },
   "outputs": [],
   "source": [
    "import soba.visualization.ramen.mapGenerator as ramen\n",
    "\n",
    "with open('labgsi.blueprint3d') as data_file:\n",
    "    jsonMap = ramen.returnMap(data_file)"
   ]
  },
  {
   "cell_type": "markdown",
   "metadata": {},
   "source": [
    "3.- We implement a Model inheriting a base class of SOBA."
   ]
  },
  {
   "cell_type": "code",
   "execution_count": 7,
   "metadata": {
    "collapsed": false
   },
   "outputs": [],
   "source": [
    "from soba.models.continuousModel import ContinuousModel\n",
    "from time import time\n",
    "\n",
    "class ModelExample(ContinuousModel):\n",
    "\n",
    "    def __init__(self, width, height, jsonMap, jsonsOccupants, seed = int(time())):\n",
    "        super().__init__(width, height, jsonMap, jsonsOccupants, seed = seed, timeByStep = 60)\n",
    "        self.createOccupants(jsonsOccupants)\n",
    "\n",
    "    def step(self):\n",
    "        if self.clock.clock.hour > 17:\n",
    "            self.finishSimulation = True\n",
    "        super().step()\n"
   ]
  },
  {
   "cell_type": "markdown",
   "metadata": {},
   "source": [
    "4.- We call the execution methods.\n",
    "\n",
    "    4.1-With visual representation."
   ]
  },
  {
   "cell_type": "code",
   "execution_count": null,
   "metadata": {
    "collapsed": true
   },
   "outputs": [],
   "source": [
    "import soba.run\n",
    "import sys\n",
    "from optparse import OptionParser\n",
    "\n",
    "parameters = {'width': 40, 'height': 40, 'jsonMap': jsonMap, 'jsonsOccupants': jsonsOccupants}\n",
    "\n",
    "sys.argv = []\n",
    "sys.argv.append(\"-1\")\n",
    "sys.argv.append(\"-v\")\n",
    "\n",
    "soba.run.run(ModelExample, parameters, visualJS=\"example.js\")"
   ]
  },
  {
   "cell_type": "markdown",
   "metadata": {},
   "source": [
    "    4.1- Bacth mode."
   ]
  },
  {
   "cell_type": "code",
   "execution_count": null,
   "metadata": {
    "collapsed": true
   },
   "outputs": [],
   "source": [
    "import soba.run\n",
    "import sys\n",
    "#Fixed parameters during iterations\n",
    "fixed_params = {\"width\": 40, \"height\": 40, \"jsonMap\": jsonMap, \"jsonsOccupants\": jsonsOccupants}\n",
    "#Variable parameters to each iteration\n",
    "variable_params = {\"seed\": range(10, 500, 10)}\n",
    "\n",
    "sys.argv = []\n",
    "sys.argv.append(\"-1\")\n",
    "sys.argv.append(\"-b\")\n",
    "\n",
    "soba.run.run(ModelExample, fixed_params, variable_params)"
   ]
  },
  {
   "cell_type": "markdown",
   "metadata": {},
   "source": [
    "### Implementing  a sample model with simplified space\n",
    "\n",
    "Once soba is installed, the implementation can be started. First we define the generic parameters to both types of scenario.\n",
    "\n",
    "1.- We define the characteristics of the occupants\n"
   ]
  },
  {
   "cell_type": "code",
   "execution_count": 8,
   "metadata": {
    "collapsed": true
   },
   "outputs": [],
   "source": [
    "from collections import OrderedDict\n",
    "#JSON to store all the informacion.\n",
    "jsonsOccupants = []\n",
    "\n",
    "#Number of occupants\n",
    "N = 3\n",
    "\n",
    "#Definition of the states\n",
    "states = OrderedDict([('out','Pos1'), ('Working in my laboratory', {'Pos2': 1, 'Pos3': 2})])\n",
    "\n",
    "#Definition of the schedule\n",
    "schedule = {'t1': \"08:01:00\", 't2': \"08:10:00\", 't3': \"08:20:00\"}\n",
    "\n",
    "#Possible Variation on the schedule\n",
    "variation = {'t1': \"00:01:00\", 't2': \"00:01:00\", 't3': \"00:01:00\"}\n",
    "\n",
    "#Probability of state change associated with the Markovian chain as a function of the temporal period\n",
    "markovActivity = {\n",
    "    '-t1': [[100, 0, 0], [0, 0, 0], [0, 0, 0]],\n",
    "    't1-t2': [[0, 0, 100], [0, 50, 50], [0, 50, 50]],\n",
    "    't2-t3': [[100, 0, 0], [0, 50, 50], [0, 50, 50]],\n",
    "    't3-': [[0, 0, 100], [0, 100, 0], [0, 100, 0]]\n",
    "}\n",
    "\n",
    "#Time associated to each state (minutes)\n",
    "timeActivity = {\n",
    "    '-t1': [3, 0, 0], 't1-t2': [3, 3, 3], 't2-t3': [3, 3, 3], 't3-': [3, 3, 3]\n",
    "}\n",
    "\n",
    "\n",
    "#Time variation associated to each state (minutes)\n",
    "timeActivityVariation = {\n",
    "    '-t1': [1, 0, 0], 't1-t2': [1, 1, 1], 't2-t3': [1, 1, 1], 't3-': [1, 1, 1]\n",
    "}\n",
    "\n",
    "#Store the information\n",
    "jsonOccupant = {'type': 'example' , 'N': N, 'states': states , 'schedule': schedule, 'variation': variation, \n",
    "                'markovActivity': markovActivity, 'timeActivity': timeActivity}\n",
    "jsonsOccupants.append(jsonOccupant)"
   ]
  },
  {
   "cell_type": "markdown",
   "metadata": {
    "collapsed": true
   },
   "source": [
    "2.- We define the building plan or the distribution of the space."
   ]
  },
  {
   "cell_type": "code",
   "execution_count": 9,
   "metadata": {
    "collapsed": true
   },
   "outputs": [],
   "source": [
    "jsonMap = {\n",
    "  'Pos1': {'entrance':'', 'conectedTo': {'U':'Pos2'}, 'measures': {'dx':2, 'dy':2}},\n",
    "  'Pos2': {'measures': {'dx':3, 'dy':3.5}, 'conectedTo': {'R':'Pos3'}},\n",
    "  'Pos3': {'measures': {'dx':3, 'dy':3.5}}\n",
    "}"
   ]
  },
  {
   "cell_type": "markdown",
   "metadata": {
    "collapsed": true
   },
   "source": [
    "3.- We implement a Model inheriting a base class of SOBA."
   ]
  },
  {
   "cell_type": "code",
   "execution_count": null,
   "metadata": {
    "collapsed": true
   },
   "outputs": [],
   "source": [
    "from soba.models.roomsModel import RoomsModel\n",
    "import datetime as dt\n",
    "\n",
    "class ModelExample(RoomsModel):\n",
    "\n",
    "    def __init__(self, width, height, jsonMap, jsonsOccupants, seed = int(time())):\n",
    "        super().__init__(width, height, jsonMap, jsonsOccupants, seed = seed)\n",
    "\n",
    "    def step(self):\n",
    "        if self.clock.clock.day > 3:\n",
    "            self.finishSimulation = True\n",
    "        super().step()"
   ]
  },
  {
   "cell_type": "markdown",
   "metadata": {
    "collapsed": true
   },
   "source": [
    "4.- We call the execution methods.\n",
    "    4.1- With visual representation."
   ]
  },
  {
   "cell_type": "code",
   "execution_count": null,
   "metadata": {
    "collapsed": true
   },
   "outputs": [],
   "source": [
    "import soba.run\n",
    "import sys\n",
    "\n",
    "cellW = 4\n",
    "cellH = 4\n",
    "\n",
    "sys.argv = []\n",
    "sys.argv.append(\"-1\")\n",
    "sys.argv.append(\"-v\")\n",
    "\n",
    "parameters = {'width': cellW, 'height': cellH, 'jsonMap': jsonMap, 'jsonsOccupants': jsonsOccupants}\n",
    "soba.run.run(ModelExample, parameters, visualJS=\"example.js\")"
   ]
  },
  {
   "cell_type": "markdown",
   "metadata": {},
   "source": [
    "    4.1- Bacth mode."
   ]
  },
  {
   "cell_type": "code",
   "execution_count": null,
   "metadata": {
    "collapsed": true
   },
   "outputs": [],
   "source": [
    "#Fixed parameters during iterations\n",
    "fixed_params = {\"width\": cellW, \"height\": cellH, \"jsonMap\": jsonMap, \"jsonsOccupants\": jsonsOccupants}\n",
    "#Variable parameters to each iteration\n",
    "variable_params = {\"seed\": range(10, 500, 10)}\n",
    "\n",
    "sys.argv = []\n",
    "sys.argv.append(\"-1\")\n",
    "sys.argv.append(\"-b\")\n",
    "\n",
    "soba.run.run(ModelExample, fixed_params, variable_params)"
   ]
  },
  {
   "cell_type": "markdown",
   "metadata": {
    "collapsed": false
   },
   "source": [
    "## Running the simulation using the terminal\n",
    "\n",
    "```bash\n",
    "\n",
    "        $ git clone https://github.com/gsi-upm/soba\n",
    "\n",
    "        $ cd soba/projects/examples\n",
    "```\n",
    "\n",
    "Then, execute the run file. \n",
    "\n",
    "```bash\n",
    "\n",
    "        $ python continuousExample.py\n",
    "```\n",
    "or\n",
    "\n",
    "```bash\n",
    "\n",
    "        $ python3 continuousExample.py\n",
    "```\n",
    "\n",
    "Different options are provided for execution:\n",
    "\t\n",
    "1. Visual mode\n",
    "\n",
    "```bash\n",
    "\n",
    "        $ python3 continuousExample.py -v\n",
    "```\n",
    "\n",
    "1.1 Launching REST Server\n",
    "\n",
    "```bash\n",
    "\n",
    "        $ python3 continuousExample.py -v -s\n",
    "```\n",
    "\n",
    "1.2 Using RAMEN tool\n",
    "```bash\n",
    "\n",
    "        $ python3 continuousExample.py -v -r\n",
    "```\n",
    "2. Batch mode\n",
    "\n",
    "```bash\n",
    "\n",
    "        $ python3 continuousExample.py -b\n",
    "```\n",
    "\n",
    "2.1 Launching REST Server\n",
    "\n",
    "```bash\n",
    "\n",
    "        $ python3 continuousExample.py -b -s\n",
    "```\n",
    "\n",
    "2.2 Using RAMEN tool\n",
    "\n",
    "```bash\n",
    "\n",
    "        $ python3 continuousExample.py -b -r\n",
    "```"
   ]
  },
  {
   "cell_type": "code",
   "execution_count": null,
   "metadata": {
    "collapsed": true
   },
   "outputs": [],
   "source": []
  }
 ],
 "metadata": {
  "anaconda-cloud": {},
  "kernelspec": {
   "display_name": "Python [conda root]",
   "language": "python",
   "name": "conda-root-py"
  },
  "language_info": {
   "codemirror_mode": {
    "name": "ipython",
    "version": 3
   },
   "file_extension": ".py",
   "mimetype": "text/x-python",
   "name": "python",
   "nbconvert_exporter": "python",
   "pygments_lexer": "ipython3",
   "version": "3.5.2"
  }
 },
 "nbformat": 4,
 "nbformat_minor": 1
}
