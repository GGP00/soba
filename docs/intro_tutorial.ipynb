{
 "cells": [
  {
   "cell_type": "markdown",
   "metadata": {},
   "source": [
    "# Introductory Tutorial"
   ]
  },
  {
   "cell_type": "markdown",
   "metadata": {},
   "source": [
    "## Instalation\n",
    "First of all, you need to install the package using pip.\n",
    "\n",
    "```bash\n",
    "    $ pip install soba\n",
    "```\n",
    "\n",
    "In case of error, this other command should be used, ensuring to have installed python 3 and pip 3.\n",
    "\n",
    "```bash\n",
    "    $ pip3 install soba\n",
    "```"
   ]
  },
  {
   "cell_type": "markdown",
   "metadata": {},
   "source": [
    "## Tutorial\n",
    "\n",
    "The SOBA tool can be provided to be used directly on two scenarios:\n",
    "\n",
    "1. Generic case with a space defined as a grid of a given square size (by default, half a meter on each side).\n",
    "2. Simplified case with a room defined by rooms, to perform simulations in simplified buildings that require less consumption of resources and specifications.\n",
    "\n",
    "An introductory tutorial will be presented for each case, although most parameters are common or similar.\n",
    "\n",
    "SOBA enables the performance of the simulations in two modes:\n",
    "\n",
    "1. With visual representation.\n",
    "2. In batch mode. \n",
    "\n",
    "In the tutorials, the small modifications required to use each posibility are reflected.\n",
    "\n",
    "IMPORTANT NOTE: The .py files described in this tutorial are available in the github repository \n",
    "https://github.com/gsi-upm/soba/tree/master/projects/basicExamples"
   ]
  },
  {
   "cell_type": "markdown",
   "metadata": {},
   "source": [
    "### Implementing  a sample model with continuous space\n",
    "\n",
    "Once soba is installed, the implementation can be started. First we define the generic parameters to both types of scenario.\n",
    "\n",
    "1.- We define the characteristics of the occupants"
   ]
  },
  {
   "cell_type": "code",
   "execution_count": null,
   "metadata": {
    "collapsed": true
   },
   "outputs": [],
   "source": [
    "from collections import OrderedDict\n",
    "#JSON to store all the informacion.\n",
    "jsonsOccupants = []\n",
    "\n",
    "#Number of occupants\n",
    "N = 12\n",
    "\n",
    "#Definition of the states\n",
    "states = OrderedDict([('Leaving','out'), ('Resting', 'sofa'), ('Working in my laboratory', 'wp')])\n",
    "\n",
    "#Definition of the schedule\n",
    "schedule = {'t1': \"09:00:00\", 't2': \"13:00:00\", 't3': \"14:10:00\"}\n",
    "\n",
    "#Possible Variation on the schedule\n",
    "variation = {'t1': \"00:10:00\", 't2': \"01:20:00\", 't3': \"00:20:00\"}\n",
    "\n",
    "#Probability of state change associated with the Markovian chain as a function of the temporal period.\n",
    "markovActivity = {\n",
    "    '-t1': [[100, 0, 0], [0, 0, 0], [0, 0, 0]],\n",
    "    't1-t2': [[30, 40, 30], [0, 50, 50], [0, 50, 50]],\n",
    "    't2-t3': [[0, 0, 0], [50, 50, 0], [0, 0, 0]],\n",
    "    't3-': [[0, 50, 50], [10, 90, 0], [0, 0, 0]]\n",
    "}\n",
    "\n",
    "#Time associated to each state (minutes)\n",
    "timeActivity = {\n",
    "    '-t1': [60, 0, 0], 't1-t2': [2, 60, 15], 't2-t3': [60, 10, 15], 't3-': [60, 20, 15]\n",
    "}\n",
    "\n",
    "#Store the information\n",
    "jsonOccupant = {'type': 'example' , 'N': N, 'states': states , 'schedule': schedule, 'variation': variation, 'markovActivity': markovActivity, 'timeActivity': timeActivity}\n",
    "jsonsOccupants.append(jsonOccupant)"
   ]
  },
  {
   "cell_type": "markdown",
   "metadata": {},
   "source": [
    "2.- We define the building plan or the distribution of the space."
   ]
  },
  {
   "cell_type": "code",
   "execution_count": null,
   "metadata": {
    "collapsed": true
   },
   "outputs": [],
   "source": [
    "import soba.visualization.ramen.mapGenerator as ramen\n",
    "\n",
    "with open('labgsi.blueprint3d') as data_file:\n",
    "    jsonMap = ramen.returnMap(data_file)"
   ]
  },
  {
   "cell_type": "markdown",
   "metadata": {},
   "source": [
    "3.- We implement a Model inheriting a base class of SOBA."
   ]
  },
  {
   "cell_type": "code",
   "execution_count": 25,
   "metadata": {
    "collapsed": false
   },
   "outputs": [],
   "source": [
    "from soba.model.model import ContinuousModel\n",
    "import datetime as dt\n",
    "\n",
    "class ModelExample(ContinuousModel):\n",
    "\n",
    "    def __init__(self, width, height, jsonMap, jsonsOccupants, seed = dt.datetime.now()):\n",
    "        super().__init__(width, height, jsonMap, jsonsOccupants, seed = seed)\n",
    "\n",
    "    def step(self):\n",
    "        if self.clock.clock.day > 3:\n",
    "            self.finishSimulation = True\n",
    "        super().step()"
   ]
  },
  {
   "cell_type": "markdown",
   "metadata": {},
   "source": [
    "4.- We call the execution methods.\n",
    "\n",
    "    4.1-With visual representation."
   ]
  },
  {
   "cell_type": "code",
   "execution_count": null,
   "metadata": {
    "collapsed": true
   },
   "outputs": [],
   "source": [
    "import soba.run\n",
    "\n",
    "soba.run.run(ModelExample, [], cellW, cellH, jsonMap, jsonsOccupants)"
   ]
  },
  {
   "cell_type": "markdown",
   "metadata": {},
   "source": [
    "    4.1- Bacth mode."
   ]
  },
  {
   "cell_type": "code",
   "execution_count": null,
   "metadata": {
    "collapsed": true
   },
   "outputs": [],
   "source": [
    "#Fixed parameters during iterations\n",
    "fixed_params = {\"width\": cellW, \"height\": cellH, \"jsonMap\": jsonMap, \"jsonsOccupants\": jsonsOccupants}\n",
    "#Variable parameters to each iteration\n",
    "variable_params = {\"seed\": range(10, 500, 10)}\n",
    "\n",
    "soba.run.run(ModelExample, fixed_params, variable_params)"
   ]
  },
  {
   "cell_type": "markdown",
   "metadata": {},
   "source": [
    "### Implementing  a sample model with simplified space\n",
    "\n",
    "Once soba is installed, the implementation can be started. First we define the generic parameters to both types of scenario.\n",
    "\n",
    "1.- We define the characteristics of the occupants\n"
   ]
  },
  {
   "cell_type": "code",
   "execution_count": 28,
   "metadata": {
    "collapsed": true
   },
   "outputs": [],
   "source": [
    "from collections import OrderedDict\n",
    "#JSON to store all the informacion.\n",
    "jsonsOccupants = []\n",
    "\n",
    "#Number of occupants\n",
    "N = 3\n",
    "\n",
    "#Definition of the states\n",
    "states = OrderedDict([('out','Pos1'), ('Working in my laboratory', {'Pos2': 1, 'Pos3': 2})])\n",
    "\n",
    "#Definition of the schedule\n",
    "schedule = {'t1': \"09:00:00\", 't2': \"13:00:00\", 't3': \"14:10:00\"}\n",
    "\n",
    "#Possible Variation on the schedule\n",
    "variation = {'t1': \"00:10:00\", 't2': \"01:20:00\", 't3': \"00:20:00\"}\n",
    "\n",
    "#Probability of state change associated with the Markovian chain as a function of the temporal period.\n",
    "markovActivity = {\n",
    "    '-t1': [[100, 0], [0, 0]],\n",
    "    't1-t2': [[50, 50], [0, 0]],\n",
    "    't2-t3': [[0, 0], [50, 0]],\n",
    "    't3-': [[0, 50], [10, 90]]\n",
    "}\n",
    "\n",
    "#Time associated to each state (minutes)\n",
    "timeActivity = {\n",
    "    '-t1': [60, 0],\n",
    "    't1-t2': [2, 60],\n",
    "    't2-t3': [60, 10],\n",
    "    't3-': [60, 20]\n",
    "}\n",
    "\n",
    "#Store the information\n",
    "jsonOccupant = {'type': 'example' , 'N': N, 'states': states , 'schedule': schedule, 'variation': variation, \n",
    "                'markovActivity': markovActivity, 'timeActivity': timeActivity}\n",
    "jsonsOccupants.append(jsonOccupant)"
   ]
  },
  {
   "cell_type": "markdown",
   "metadata": {
    "collapsed": true
   },
   "source": [
    "2.- We define the building plan or the distribution of the space."
   ]
  },
  {
   "cell_type": "code",
   "execution_count": 29,
   "metadata": {
    "collapsed": true
   },
   "outputs": [],
   "source": [
    "jsonMap = {\n",
    "  'Pos1': {'entrance':'', 'conectedTo': {'U':'Pos2'}, 'measures': {'dx':2, 'dy':2}},\n",
    "  'Pos2': {'measures': {'dx':3, 'dy':3.5}, 'conectedTo': {'R':'Pos3'}},\n",
    "  'Pos3': {'measures': {'dx':3, 'dy':3.5}}\n",
    "}"
   ]
  },
  {
   "cell_type": "markdown",
   "metadata": {
    "collapsed": true
   },
   "source": [
    "3.- We implement a Model inheriting a base class of SOBA."
   ]
  },
  {
   "cell_type": "code",
   "execution_count": null,
   "metadata": {
    "collapsed": true
   },
   "outputs": [],
   "source": [
    "from soba.model.model import ContinuousModel\n",
    "import datetime as dt\n",
    "\n",
    "class ModelExample(RoomsModel):\n",
    "\n",
    "    def __init__(self, width, height, jsonMap, jsonsOccupants, seed = dt.datetime.now()):\n",
    "        super().__init__(width, height, jsonMap, jsonsOccupants, seed = seed)\n",
    "\n",
    "    def step(self):\n",
    "        if self.clock.clock.day > 3:\n",
    "            self.finishSimulation = True\n",
    "        super().step()"
   ]
  },
  {
   "cell_type": "markdown",
   "metadata": {
    "collapsed": true
   },
   "source": [
    "4.- We call the execution methods.\n",
    "    4.1- With visual representation."
   ]
  },
  {
   "cell_type": "code",
   "execution_count": null,
   "metadata": {
    "collapsed": true
   },
   "outputs": [],
   "source": [
    "cellW = 4\n",
    "cellH = 4\n",
    "\n",
    "soba.run.run(ModelExample, [], cellW, cellH, jsonMap, jsonsOccupants)"
   ]
  },
  {
   "cell_type": "markdown",
   "metadata": {},
   "source": [
    "    4.1- Bacth mode."
   ]
  },
  {
   "cell_type": "code",
   "execution_count": null,
   "metadata": {
    "collapsed": true
   },
   "outputs": [],
   "source": [
    "#Fixed parameters during iterations\n",
    "fixed_params = {\"width\": cellW, \"height\": cellH, \"jsonMap\": jsonMap, \"jsonsOccupants\": jsonsOccupants}\n",
    "#Variable parameters to each iteration\n",
    "variable_params = {\"seed\": range(10, 500, 10)}\n",
    "\n",
    "soba.run.run(ModelExample, fixed_params, variable_params)"
   ]
  },
  {
   "cell_type": "markdown",
   "metadata": {
    "collapsed": false
   },
   "source": [
    "## Running the simulation using the terminal\n",
    "\n",
    "```bash\n",
    "    $ python exampleContinuous.py -v\n",
    "```\n",
    "\n",
    "Options:\n",
    "\n",
    "\t-v,\t\tVisual option on browser\n",
    "\n",
    "\t-b,\t\tBackground option\n",
    "    \n",
    "\t-r,\t\tRamen option\n"
   ]
  },
  {
   "cell_type": "code",
   "execution_count": null,
   "metadata": {
    "collapsed": true
   },
   "outputs": [],
   "source": []
  }
 ],
 "metadata": {
  "anaconda-cloud": {},
  "kernelspec": {
   "display_name": "Python [conda root]",
   "language": "python",
   "name": "conda-root-py"
  },
  "language_info": {
   "codemirror_mode": {
    "name": "ipython",
    "version": 3
   },
   "file_extension": ".py",
   "mimetype": "text/x-python",
   "name": "python",
   "nbconvert_exporter": "python",
   "pygments_lexer": "ipython3",
   "version": "3.5.2"
  }
 },
 "nbformat": 4,
 "nbformat_minor": 1
}
